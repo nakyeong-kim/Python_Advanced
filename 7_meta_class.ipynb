{
  "nbformat": 4,
  "nbformat_minor": 0,
  "metadata": {
    "colab": {
      "provenance": [],
      "authorship_tag": "ABX9TyMJv6Art9h822Xu/rfkd0x8",
      "include_colab_link": true
    },
    "kernelspec": {
      "name": "python3",
      "display_name": "Python 3"
    },
    "language_info": {
      "name": "python"
    }
  },
  "cells": [
    {
      "cell_type": "markdown",
      "metadata": {
        "id": "view-in-github",
        "colab_type": "text"
      },
      "source": [
        "<a href=\"https://colab.research.google.com/github/nakyeong-kim/python_advanced/blob/main/7_meta_class.ipynb\" target=\"_parent\"><img src=\"https://colab.research.google.com/assets/colab-badge.svg\" alt=\"Open In Colab\"/></a>"
      ]
    },
    {
      "cell_type": "markdown",
      "source": [
        "## 7. Meta Class<br><br>\n",
        "\n",
        "### Class of Class, Meta Class\n",
        "### Type(name, base, dict), Dynamic Meta Class\n",
        "### Custom Meta Class, Type Inheritance\n",
        "<br>\n",
        "\n",
        "* 메타 클래스\n",
        "  1. 클래스를 만드는 역할 → 의도하는 방향으로 클래스 커스텀 가능 (큰 장점임)\n",
        "  2. 프레임워크 작성 시 필요\n",
        "  3. 동적 생성 가능 → 커스텀 생성 가능(type 함수 사용)\n",
        "  4. 커스텀 클래스 → 검증 클래스 등\n",
        "  5. 엄격한 클래스 사용 요구, 메소드 오버라이드 요구\n",
        "  <br><br>\n",
        "\n",
        "* 메타클래스 상속\n",
        "  1. type 클래스 상속\n",
        "  2. metaclass 속성 사용\n",
        "  3. 커스텀 메타클래스 생성\n",
        "     - 클래스 생성 가로채기 (intercept)\n",
        "     - 클래스 수정 (modify)\n",
        "     - 클래스 개선 (기능 추가)\n",
        "     - 수정된 클래스 반환\n",
        "  <br><br>\n",
        "\n",
        "* 메타클래스를 배움으로써\n",
        "  - 메타클래스는 개발에 있어 중요하고 어려운 개념임\n",
        "  - OpenAPI, 오픈 소스, Django 같은 것들의 내부 소스를 보면 메타 클래스를 활용해서 만들 수 밖에 없음\n",
        "  - 이러한 깊은 언어에 대한 이해가 있어야 범용적으로 사용될 수 있는 패키지 등을 개발할 수 있게 됨\n",
        "<br><br><br>"
      ],
      "metadata": {
        "id": "zNrLKIEaWS7S"
      }
    },
    {
      "cell_type": "code",
      "source": [
        "# Ex1 - type 예제\n",
        "\n",
        "class SampleA():    # Class, Object, 객체 똑같의 의미로 받아들이면 됨\n",
        "  pass\n",
        "\n",
        "obj1 = SampleA()    # 클래스(객체)를 인스턴스화 했다.\n",
        "                    # 인스턴스화 장점 : 변수에 할당 가능, 복사 가능, 새로운 속성 추가 가능, 함수의 인자로 넘기기 가능\n",
        "\n",
        "print('Ex1 > ', obj1.__class__)\n",
        "print('Ex1 > ', type(obj1))\n",
        "print('Ex1 > ', obj1.__class__ is type(obj1))   # 같음\n",
        "# → obj1은 SampleA로부터 만들어졌음\n",
        "\n",
        "# 그럼 SampleA는 뭐로부터? 원형이 뭘까?\n",
        "print('Ex1 > ', obj1.__class__.__class__)   # type이 나옴\n",
        "# → 즉, 모든 클래스의 메타 클래스는 type 클래스\n",
        "print('Ex1 > ', obj1.__class__.__class__ is type(obj1).__class__)   # 같음\n",
        "\n",
        "# type 클래스의 메타클래스는?\n",
        "print(type.__class__)\n",
        "# → type 클래스의 메타클래스도 type 클래스\n",
        "\n",
        "\n",
        "# [결론]\n",
        "# obj1 → SampleA instance\n",
        "# SampleA → type meta class\n",
        "# type → type meta class"
      ],
      "metadata": {
        "id": "woW-zGytXKe2",
        "colab": {
          "base_uri": "https://localhost:8080/"
        },
        "outputId": "54fd3166-276d-4e10-e88c-65784b300d52"
      },
      "execution_count": 1,
      "outputs": [
        {
          "output_type": "stream",
          "name": "stdout",
          "text": [
            "Ex1 >  <class '__main__.SampleA'>\n",
            "Ex1 >  <class '__main__.SampleA'>\n",
            "Ex1 >  True\n",
            "Ex1 >  <class 'type'>\n",
            "Ex1 >  True\n",
            "<class 'type'>\n"
          ]
        }
      ]
    },
    {
      "cell_type": "code",
      "source": [
        "# Ex2 - type meta class (Ex1 증명)\n",
        "\n",
        "# int, dict\n",
        "n = 10\n",
        "d = {'a':10, 'b':20}\n",
        "\n",
        "class SampleB():\n",
        "  pass\n",
        "\n",
        "obj2 = SampleB()\n",
        "\n",
        "\n",
        "for o in (n, d, obj2):\n",
        "  print('Ex2 > {} {} {}'.format(type(o), type(o) is o.__class__, o.__class__.__class__))\n",
        "\n",
        "for t in int, float, list, tuple:\n",
        "  print('Ex2 > ', type(t))\n",
        "\n",
        "print('Ex2 > ', type(type))"
      ],
      "metadata": {
        "id": "7YORAcoHXfSt",
        "colab": {
          "base_uri": "https://localhost:8080/"
        },
        "outputId": "32007ca5-1820-4ec2-daea-a10cdce47f39"
      },
      "execution_count": 3,
      "outputs": [
        {
          "output_type": "stream",
          "name": "stdout",
          "text": [
            "Ex2 > <class 'int'> True <class 'type'>\n",
            "Ex2 > <class 'dict'> True <class 'type'>\n",
            "Ex2 > <class '__main__.SampleB'> True <class 'type'>\n",
            "Ex2 >  <class 'type'>\n",
            "Ex2 >  <class 'type'>\n",
            "Ex2 >  <class 'type'>\n",
            "Ex2 >  <class 'type'>\n",
            "Ex2 >  <class 'type'>\n"
          ]
        }
      ]
    },
    {
      "cell_type": "code",
      "source": [
        "# Ex3 - type 동적 클래스 생성\n",
        "# 메타클래스 인자 3가지\n",
        "# Name(이름), Bases(상속), Dict(속성, 메소드)\n",
        "\n",
        "# 정적 클래스 생성\n",
        "# class Sample1():\n",
        "#   pass\n",
        "\n",
        "# 동적 클래스 생성\n",
        "s1 = type('Sample1', (), {})\n",
        "\n",
        "print('동적 클래스 생성')\n",
        "print('Ex3 > ', s1)\n",
        "print('Ex3 > ', type(s1))\n",
        "print('Ex3 > ', s1.__base__)    # 모든 클래스는 object를 상송받는다\n",
        "print('Ex3 > ', s1.__dict__)\n",
        "\n",
        "# 동적 클래스 생성 + 상속\n",
        "\n",
        "class Parent1:\n",
        "  pass\n",
        "\n",
        "s2 = type(\n",
        "      'Sample2',\n",
        "      (Parent1,),\n",
        "      dict(attr1=100, attr2='hi')   # {'attr1':100, 'attr2':'hi'})와 동일\n",
        "    )\n",
        "\n",
        "print('\\n동적 클래스 생성 + 상속')\n",
        "print('Ex3 > ', s2)\n",
        "print('Ex3 > ', type(s2))\n",
        "print('Ex3 > ', s2.__base__)\n",
        "print('Ex3 > ', s2.__dict__)\n",
        "print('Ex3 > ', s2.attr1, s2.attr2)"
      ],
      "metadata": {
        "colab": {
          "base_uri": "https://localhost:8080/"
        },
        "id": "wjPWDcwtXfQF",
        "outputId": "0d85a9b4-ea05-44a0-f979-87cf690e7310"
      },
      "execution_count": 21,
      "outputs": [
        {
          "output_type": "stream",
          "name": "stdout",
          "text": [
            "동적 클래스 생성\n",
            "Ex3 >  <class '__main__.Sample1'>\n",
            "Ex3 >  <class 'type'>\n",
            "Ex3 >  <class 'object'>\n",
            "Ex3 >  {'__module__': '__main__', '__dict__': <attribute '__dict__' of 'Sample1' objects>, '__weakref__': <attribute '__weakref__' of 'Sample1' objects>, '__doc__': None}\n",
            "\n",
            "동적 클래스 생성 + 상속\n",
            "Ex3 >  <class '__main__.Sample2'>\n",
            "Ex3 >  <class 'type'>\n",
            "Ex3 >  <class '__main__.Parent1'>\n",
            "Ex3 >  {'attr1': 100, 'attr2': 'hi', '__module__': '__main__', '__doc__': None}\n",
            "Ex3 >  100 hi\n"
          ]
        }
      ]
    },
    {
      "cell_type": "code",
      "source": [
        "# Ex4 - type 동적 클래스 생성 + 메소드\n",
        "\n",
        "# 정적\n",
        "class SampleEx:\n",
        "  attr1 = 30\n",
        "  attr2 = 100\n",
        "\n",
        "  def add(self, m, n):\n",
        "    return m + n\n",
        "\n",
        "  def mul(self, m, n):\n",
        "    return m * n\n",
        "\n",
        "ex = SampleEx()\n",
        "\n",
        "print('정적 클래스 생성 + 메소드')\n",
        "print('Ex4 > ', ex.attr1)\n",
        "print('Ex4 > ', ex.attr2)\n",
        "print('Ex4 > ', ex.add(100, 200))\n",
        "print('Ex4 > ', ex.mul(100, 20))\n",
        "\n",
        "# 동적\n",
        "s3 = type(\n",
        "      'Sample3',\n",
        "      (object, ),   # 명시적으로 적어둠\n",
        "      dict(attr1=300, attr2=100, add=lambda x, y: x + y, mul=lambda x, y: x * y)\n",
        "    )\n",
        "\n",
        "print('\\n동적 클래스 생성 + 메소드')\n",
        "print('Ex4 > ', s3.attr1)\n",
        "print('Ex4 > ', s3.attr2)\n",
        "print('Ex4 > ', s3.add(100, 200))\n",
        "print('Ex4 > ', s3.mul(100, 20))"
      ],
      "metadata": {
        "colab": {
          "base_uri": "https://localhost:8080/"
        },
        "id": "cEC77UJPVeJZ",
        "outputId": "8009c242-c1e7-4728-e665-dc5fd9682943"
      },
      "execution_count": 22,
      "outputs": [
        {
          "output_type": "stream",
          "name": "stdout",
          "text": [
            "정적 클래스 생성 + 메소드\n",
            "Ex4 >  30\n",
            "Ex4 >  100\n",
            "Ex4 >  300\n",
            "Ex4 >  2000\n",
            "\n",
            "동적 클래스 생성 + 메소드\n",
            "Ex4 >  300\n",
            "Ex4 >  100\n",
            "Ex4 >  300\n",
            "Ex4 >  2000\n"
          ]
        }
      ]
    },
    {
      "cell_type": "code",
      "source": [
        "# Ex5 - 커스텀 메타클래스 생성 (Type 클래스 상속 X)\n",
        "\n",
        "# 이렇게 class 안이 아닌 밖에서 함수 만들면, 조립식으로 사용하기 좋음\n",
        "# 이런 함수들 쭉 만들어놓고 커스텀 메타클래스 생성 시 원하는 것만 골라올 수 있음\n",
        "def cus_mul(self, d):\n",
        "  for i in range(len(self)):\n",
        "    self[i] = self[i] * d\n",
        "\n",
        "def cus_replace(self, old, new):\n",
        "  while old in self:\n",
        "    self[self.index(old)] = new\n",
        "\n",
        "# 커스텀 메타클래스 생성 : list를 상속받음, 메소드 2개 추가\n",
        "CustomList1 = type(\n",
        "                'CustomList1',\n",
        "                (list,),\n",
        "                {\n",
        "                    'desc':'커스텀 리스트1',\n",
        "                    'cus_mul':cus_mul,\n",
        "                    'cus_replace':cus_replace\n",
        "                }\n",
        "              )\n",
        "\n",
        "c1 = CustomList1([1, 2, 3, 4, 5, 6, 7, 8, 9])\n",
        "c1.cus_mul(1000)\n",
        "c1.cus_replace(1000, 7777)\n",
        "\n",
        "print('Ex5 > ', c1)\n",
        "print('Ex5 > ', c1.desc)\n",
        "print('Ex5 > ', dir(c1))   # 리스트의 기본 메소드들이 다 있음"
      ],
      "metadata": {
        "colab": {
          "base_uri": "https://localhost:8080/"
        },
        "id": "f439w6DPVeFP",
        "outputId": "f4c9f838-b820-4c97-eef6-eba71b9deaed"
      },
      "execution_count": 53,
      "outputs": [
        {
          "output_type": "stream",
          "name": "stdout",
          "text": [
            "Ex5 >  [7777, 2000, 3000, 4000, 5000, 6000, 7000, 8000, 9000]\n",
            "Ex5 >  커스텀 리스트1\n",
            "Ex5 >  ['__add__', '__class__', '__class_getitem__', '__contains__', '__delattr__', '__delitem__', '__dict__', '__dir__', '__doc__', '__eq__', '__format__', '__ge__', '__getattribute__', '__getitem__', '__gt__', '__hash__', '__iadd__', '__imul__', '__init__', '__init_subclass__', '__iter__', '__le__', '__len__', '__lt__', '__module__', '__mul__', '__ne__', '__new__', '__reduce__', '__reduce_ex__', '__repr__', '__reversed__', '__rmul__', '__setattr__', '__setitem__', '__sizeof__', '__str__', '__subclasshook__', '__weakref__', 'append', 'clear', 'copy', 'count', 'cus_mul', 'cus_replace', 'desc', 'extend', 'index', 'insert', 'pop', 'remove', 'reverse', 'sort']\n"
          ]
        }
      ]
    },
    {
      "cell_type": "code",
      "source": [
        "# Ex6 - 커스텀 메타클래스 생성 (Type 클래스 상속 O)\n",
        "# Ex5에서 동작하는 것의 실행 원리\n",
        "# 거의 코딩할 일 없으나, 엄청 깊이 들어가 보는 것\n",
        "\n",
        "# 설명을 위한 코드\n",
        "# class MetaClassName(type):\n",
        "#   # type 클래스 상속받으면 클래스 생성 시점에 new 메소드에 값들이 넘어오는 것\n",
        "#   def __new__(metacls, name, bases, namespace):\n",
        "#     # 코드\n",
        "\n",
        "# new → init → call로 순서로 실행됨\n",
        "class CustomListMeta(type):\n",
        "  # 생성'된' 인스턴스 초기화\n",
        "  def __init__(self, object_or_name, bases, dict):\n",
        "    print('__init__ → ', self, object_or_name, bases, dict)\n",
        "    super().__init__(object_or_name, bases, dict)\n",
        "\n",
        "  # 인스턴스 실행됨\n",
        "  def __call__(self, *args, **kwargs):\n",
        "    print('__call__ → ', self, *args, **kwargs)\n",
        "    return super().__call__(*args, **kwargs)\n",
        "\n",
        "  # 클래스 인스턴스 생성됨 (이때 메모리 초기화)\n",
        "  def __new__(metacls, name, bases, namespace):   #__init__의 3개와 동일. 이름만 다를 뿐.\n",
        "    print('__new__ → ', metacls, name, bases, namespace)\n",
        "    namespace['desc'] = '커스텀 리스트2'\n",
        "    namespace['cus_mul'] = cus_mul\n",
        "    namespace['cus_replace'] = cus_replace\n",
        "\n",
        "    return type.__new__(metacls, name, bases, namespace)\n",
        "\n",
        "\n",
        "CustomList2 = CustomListMeta(\n",
        "    'CustomList2',\n",
        "     (list, ),\n",
        "    {}\n",
        "  )\n",
        "\n",
        "c2 = CustomList2([1, 2, 3, 4, 5, 6, 7, 8, 9])\n",
        "c2.cus_mul(1000)\n",
        "c2.cus_replace(1000, 7777)\n",
        "\n",
        "print('Ex6 > ', c2)\n",
        "print('Ex6 > ', c2.desc)\n",
        "\n",
        "# 상속 확인\n",
        "print(CustomList2.__mro__)    # MRO : Methold Resolution Order"
      ],
      "metadata": {
        "colab": {
          "base_uri": "https://localhost:8080/"
        },
        "id": "7X-9CafrVd30",
        "outputId": "ca682ac5-4e1b-4a88-8396-0ea80e6822aa"
      },
      "execution_count": 54,
      "outputs": [
        {
          "output_type": "stream",
          "name": "stdout",
          "text": [
            "__new__ →  <class '__main__.CustomListMeta'> CustomList2 (<class 'list'>,) {}\n",
            "__init__ →  <class '__main__.CustomList2'> CustomList2 (<class 'list'>,) {'desc': '커스텀 리스트2', 'cus_mul': <function cus_mul at 0x792160c2b5b0>, 'cus_replace': <function cus_replace at 0x792160c2bb50>}\n",
            "__call__ →  <class '__main__.CustomList2'> [1, 2, 3, 4, 5, 6, 7, 8, 9]\n",
            "Ex6 >  [7777, 2000, 3000, 4000, 5000, 6000, 7000, 8000, 9000]\n",
            "Ex6 >  커스텀 리스트2\n",
            "(<class '__main__.CustomList2'>, <class 'list'>, <class 'object'>)\n"
          ]
        }
      ]
    }
  ]
}