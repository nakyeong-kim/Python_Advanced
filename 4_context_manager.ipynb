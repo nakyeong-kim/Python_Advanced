{
  "nbformat": 4,
  "nbformat_minor": 0,
  "metadata": {
    "colab": {
      "provenance": [],
      "authorship_tag": "ABX9TyOczYTz5a18u+KQ+jVN5ugp",
      "include_colab_link": true
    },
    "kernelspec": {
      "name": "python3",
      "display_name": "Python 3"
    },
    "language_info": {
      "name": "python"
    }
  },
  "cells": [
    {
      "cell_type": "markdown",
      "metadata": {
        "id": "view-in-github",
        "colab_type": "text"
      },
      "source": [
        "<a href=\"https://colab.research.google.com/github/nakyeong-kim/python_advanced/blob/main/4_context_manager.ipynb\" target=\"_parent\"><img src=\"https://colab.research.google.com/assets/colab-badge.svg\" alt=\"Open In Colab\"/></a>"
      ]
    },
    {
      "cell_type": "markdown",
      "source": [
        "# 4. Context Manager, Context Manager Annotation\n",
        "\n",
        "### Contextlib, \\_\\_enter\\_\\_, \\_\\_exit\\_\\_, exception, @contextlib.contextmanager <br><br>    \n",
        "\n",
        "\n",
        "* Context Manager : 원하는 타이밍에 정확하게 리소스를 할당, 제공, 반환하는 역할<br>\n",
        "  - 대표적인 것이 with문\n",
        "* \\_\\_enter\\_\\_(self) : with문에 진입하는 시점에 자동으로 호출되는 메소드\n",
        "* \\_\\_exit\\_\\_(self, type, value, traceback) : with문을 빠져나오기 직전에 호출되는 메소드\n",
        "  - type, value, traceback는 with문을 빠져나오기 전에 예외가 발생했을 때의 정보를 나타냄\n",
        "* Conetxtlib 데코레이터 사용 → 직관적인 코드, 예외처리 용이\n",
        "<br><br><br>"
      ],
      "metadata": {
        "id": "zNrLKIEaWS7S"
      }
    },
    {
      "cell_type": "code",
      "source": [
        "# Ex1\n",
        "\n",
        "file = open('./testfile1.txt', 'w')\n",
        "try:\n",
        "  file.write('Context Manager Test1\\nContextlib Test1.')\n",
        "finally:\n",
        "  file.close()    # 자원을 할당 받았으므로 다시 돌려줘야 함"
      ],
      "metadata": {
        "id": "woW-zGytXKe2"
      },
      "execution_count": 19,
      "outputs": []
    },
    {
      "cell_type": "code",
      "source": [
        "# Ex2\n",
        "\n",
        "with open('./testfile2.txt', 'w') as f:\n",
        "  f.write('Context Manager Test2\\nContextlib Test2.')"
      ],
      "metadata": {
        "id": "7YORAcoHXfSt"
      },
      "execution_count": 20,
      "outputs": []
    },
    {
      "cell_type": "code",
      "source": [
        "# Ex3\n",
        "# Use Class - Context Manager with exception hadling\n",
        "# Class를 선언하고 __enter__와 __exit__ 메소드를 선언하면 Context Manager가 됨\n",
        "\n",
        "class MyFileWriter():\n",
        "  def __init__(self, file_name, method):\n",
        "    print('MyFileWriter started : __init__')\n",
        "    self.file_obj = open(file_name, method)\n",
        "\n",
        "  def __enter__(self):\n",
        "    print('MyFileWriter started : __enter__')\n",
        "    return self.file_obj\n",
        "\n",
        "  def __exit__(self, exc_type, exc_value, exc_traceback):\n",
        "    print('MyFileWriter started : __exit__')\n",
        "    if exc_type:\n",
        "      print('Logging exception {}'.format((exc_type, exc_value, exc_traceback)))\n",
        "    self.file_obj.close()\n",
        "\n",
        "with MyFileWriter('./testfile3.txt', 'w') as f:\n",
        "  f.write('Context Manager Test3\\nContextlib Test3.')"
      ],
      "metadata": {
        "colab": {
          "base_uri": "https://localhost:8080/"
        },
        "id": "wjPWDcwtXfQF",
        "outputId": "5dad0401-0595-4fe3-984b-ee11582320b4"
      },
      "execution_count": 21,
      "outputs": [
        {
          "output_type": "stream",
          "name": "stdout",
          "text": [
            "MyFileWriter started : __init__\n",
            "MyFileWriter started : __enter__\n",
            "MyFileWriter started : __exit__\n"
          ]
        }
      ]
    },
    {
      "cell_type": "code",
      "source": [
        "# Ex4\n",
        "# Use Class\n",
        "# Contextlib - Measure execution(타이머) 제작\n",
        "\n",
        "import time\n",
        "\n",
        "class ExcuteTimer(object):    # ()도 무관하지만, 엄격한 선언을 위해 object 명시 (모든 클래스는 오브젝트를 상속받는다)\n",
        "  def __init__(self, msg):\n",
        "    self._msg = msg\n",
        "\n",
        "  def __enter__(self):\n",
        "    self._start = time.monotonic()\n",
        "    return self._start\n",
        "\n",
        "  def __exit__(self, exc_type, exc_value, exc_traceback):\n",
        "    if exc_type:\n",
        "      print('Logging exception {}'.format((exc_type, exc_value, exc_traceback)))\n",
        "    else:\n",
        "      print('{} : {} s'.format(self._msg, time.monotonic() - self._start))\n",
        "    return True   # 엄격한 코딩에서 명시 : with문을 잘 빠져나왔음을 뜻함\n",
        "\n",
        "with ExcuteTimer('Start job!') as v:\n",
        "  print('Received start monotonic1 : {}'.format(v))\n",
        "  # Excute job\n",
        "  for i in range(10000000):\n",
        "    pass\n",
        "  raise Exception('Raise! Exception!!')   # 강제로 예외 발생"
      ],
      "metadata": {
        "colab": {
          "base_uri": "https://localhost:8080/"
        },
        "id": "MNS-6bdtViWH",
        "outputId": "63b6be43-7e85-4266-ec24-ebae102ac68d"
      },
      "execution_count": 24,
      "outputs": [
        {
          "output_type": "stream",
          "name": "stdout",
          "text": [
            "Received start monotonic1 : 3777.308676827\n",
            "Logging exception (<class 'Exception'>, Exception('Raise! Exception!!'), <traceback object at 0x7ac4d6f36b40>)\n"
          ]
        }
      ]
    },
    {
      "cell_type": "code",
      "source": [
        "# Ex5\n",
        "# Use decorator - 훨씬 간단\n",
        "# 예외 처리를 엄격하게 할 때에는 class 방식을 사용하는 것이 좋으나, 함수 형태를 쓰는 오픈 소스들이 많이 보임\n",
        "\n",
        "import contextlib\n",
        "import time\n",
        "\n",
        "@contextlib.contextmanager\n",
        "def my_file_writer(file_name, method):\n",
        "  f = open(file_name, method)\n",
        "  yield f     # __enter__ 구문\n",
        "  f.close()   # __exit__ 구문\n",
        "\n",
        "with my_file_writer('./testfile4.txt', 'w') as f:\n",
        "  f.write('Context Manager Test4\\nContextlib Test4.')"
      ],
      "metadata": {
        "id": "EMK0-Q5EViUs"
      },
      "execution_count": 25,
      "outputs": []
    },
    {
      "cell_type": "code",
      "source": [
        "# Ex6\n",
        "# Use decorator\n",
        "\n",
        "import contextlib\n",
        "import time\n",
        "\n",
        "@contextlib.contextmanager\n",
        "def ExcuteTimerDc(msg):\n",
        "  start = time.monotonic()\n",
        "  try :   # __enter__\n",
        "    yield start\n",
        "  except BaseException as e:\n",
        "    print('Logging exception: {}: {}'.format(msg, e))\n",
        "    raise\n",
        "  else:   # __exit__\n",
        "    print('{}: {}s'.format(msg, time.monotonic() - start))\n",
        "\n",
        "with ExcuteTimerDc('Start job!') as v:\n",
        "  print('Received start monotonic2 : {}'.format(v))\n",
        "  # Excute job\n",
        "  for i in range(10000000):\n",
        "    pass\n",
        "  # raise ValueError('occurred.')   # 강제로 예외 발생"
      ],
      "metadata": {
        "colab": {
          "base_uri": "https://localhost:8080/"
        },
        "id": "GuH8t3DqViSf",
        "outputId": "6d9c5042-48fc-470f-e44b-39d9d26fa037"
      },
      "execution_count": 35,
      "outputs": [
        {
          "output_type": "stream",
          "name": "stdout",
          "text": [
            "Received start monotonic2 : 4404.454526497\n",
            "Start job!: 0.23687274799976876s\n"
          ]
        }
      ]
    }
  ]
}