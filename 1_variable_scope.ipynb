{
  "nbformat": 4,
  "nbformat_minor": 0,
  "metadata": {
    "colab": {
      "provenance": [],
      "authorship_tag": "ABX9TyO3zEicu0Bs0g+vaYxWfvqM",
      "include_colab_link": true
    },
    "kernelspec": {
      "name": "python3",
      "display_name": "Python 3"
    },
    "language_info": {
      "name": "python"
    }
  },
  "cells": [
    {
      "cell_type": "markdown",
      "metadata": {
        "id": "view-in-github",
        "colab_type": "text"
      },
      "source": [
        "<a href=\"https://colab.research.google.com/github/nakyeong-kim/python_advanced/blob/main/1_variable_scope.ipynb\" target=\"_parent\"><img src=\"https://colab.research.google.com/assets/colab-badge.svg\" alt=\"Open In Colab\"/></a>"
      ]
    },
    {
      "cell_type": "markdown",
      "source": [
        "# 1. Variable Scope\n",
        "\n",
        "### scope, global, nonlocal, locals(), globals()    \n",
        "\n",
        "\n",
        "* 전역변수 : 주로 변하지 않는 고정 값에 사용 <br>\n",
        "* 지역변수 : 함수 내 로직 해결에 국한 (함수 실행 해제 시 소멸) <br>\n",
        "* **전역변수를 지역 scope 내에서 수정하는 것은 권장 X** <br><br><br>"
      ],
      "metadata": {
        "id": "zNrLKIEaWS7S"
      }
    },
    {
      "cell_type": "code",
      "source": [
        "# Ex1\n",
        "\n",
        "a = 10  # Global variable\n",
        "\n",
        "def foo():\n",
        "  # Read global variable\n",
        "  print('Ex1 >', a)\n",
        "\n",
        "foo()\n",
        "\n",
        "# Read global variable\n",
        "print('Ex1 >', a)"
      ],
      "metadata": {
        "colab": {
          "base_uri": "https://localhost:8080/"
        },
        "id": "woW-zGytXKe2",
        "outputId": "0daf55f3-c1bd-42cf-8d33-1f9600b25c90"
      },
      "execution_count": null,
      "outputs": [
        {
          "output_type": "stream",
          "name": "stdout",
          "text": [
            "Ex1 > 10\n",
            "Ex1 > 10\n"
          ]
        }
      ]
    },
    {
      "cell_type": "code",
      "source": [
        "# Ex2\n",
        "\n",
        "b = 20\n",
        "\n",
        "def bar():\n",
        "  b = 30  # Local variable\n",
        "  # Read local variable\n",
        "  print('Ex2 >', b)\n",
        "\n",
        "bar()\n",
        "\n",
        "# Read global variable\n",
        "print('Ex2 >', b)"
      ],
      "metadata": {
        "colab": {
          "base_uri": "https://localhost:8080/"
        },
        "id": "7YORAcoHXfSt",
        "outputId": "6bca9b3f-e580-4023-9c8e-a4daf50c3163"
      },
      "execution_count": null,
      "outputs": [
        {
          "output_type": "stream",
          "name": "stdout",
          "text": [
            "Ex2 > 30\n",
            "Ex2 > 20\n"
          ]
        }
      ]
    },
    {
      "cell_type": "code",
      "source": [
        "# Ex3\n",
        "\n",
        "c = 40\n",
        "\n",
        "def foobar():\n",
        "  c = c + 10    # UnboundLocalError  # 전역에 있는 값을 지역에서 예약어 없이는 수정할 수 없음\n",
        "  print('Ex3 >', c)\n",
        "\n",
        "foobar()"
      ],
      "metadata": {
        "colab": {
          "base_uri": "https://localhost:8080/"
        },
        "id": "wjPWDcwtXfQF",
        "outputId": "7b345e7f-14f3-4ba0-b0c6-72383564efa1"
      },
      "execution_count": null,
      "outputs": [
        {
          "output_type": "stream",
          "name": "stdout",
          "text": [
            "Ex3 > 10\n"
          ]
        }
      ]
    },
    {
      "cell_type": "code",
      "source": [
        "# Ex4\n",
        "\n",
        "d = 50\n",
        "\n",
        "def barfoo():\n",
        "  global d    # 개발 시 global 선언은 자제하는 것이 좋음 (코드 유지보수의 어려움)\n",
        "  d = 60\n",
        "  d += 100\n",
        "  print('Ex4 >', d)\n",
        "\n",
        "barfoo()\n",
        "\n",
        "print('Ex4 >', d)"
      ],
      "metadata": {
        "colab": {
          "base_uri": "https://localhost:8080/"
        },
        "id": "ahWiIt3RXfJF",
        "outputId": "9ff2c795-0bed-4e33-e5cc-94b46d446a2c"
      },
      "execution_count": null,
      "outputs": [
        {
          "output_type": "stream",
          "name": "stdout",
          "text": [
            "Ex4 > 160\n",
            "Ex4 > 160\n"
          ]
        }
      ]
    },
    {
      "cell_type": "code",
      "source": [
        "# Ex5 (중요)   # Closure, Decorator\n",
        "\n",
        "def outer():\n",
        "  e = 70\n",
        "  def inner():\n",
        "    nonlocal e  # 없으면 UnboundLocalError  # nonlocal은 여러 오픈소스에서 많이 등장하는 예약어   # 효율적 운영\n",
        "    e += 10\n",
        "    print('Ex5 >', e)\n",
        "  return inner\n",
        "\n",
        "in_test = outer()   # Closure\n",
        "\n",
        "in_test()\n",
        "in_test()\n",
        "in_test()\n",
        "in_test()\n",
        "in_test()\n",
        "in_test()"
      ],
      "metadata": {
        "colab": {
          "base_uri": "https://localhost:8080/"
        },
        "id": "3cUDMBjAZfqg",
        "outputId": "ddef4bf9-9f77-4e0a-abc4-da8b99da8087"
      },
      "execution_count": null,
      "outputs": [
        {
          "output_type": "stream",
          "name": "stdout",
          "text": [
            "Ex5 > 80\n",
            "Ex5 > 90\n",
            "Ex5 > 100\n",
            "Ex5 > 110\n",
            "Ex5 > 120\n",
            "Ex5 > 130\n"
          ]
        }
      ]
    },
    {
      "cell_type": "code",
      "source": [
        "# Ex6\n",
        "\n",
        "def func(var):\n",
        "  x = 10\n",
        "  def printer():\n",
        "    print('Ex6 > Printer Func Inner')\n",
        "  print('Func Inner', locals())   # 지역 scope 전체 출력\n",
        "\n",
        "func('Hi')"
      ],
      "metadata": {
        "colab": {
          "base_uri": "https://localhost:8080/"
        },
        "id": "rxXxcqtAZfoS",
        "outputId": "6ccea88e-03a5-48a1-992c-e98ce01b7910"
      },
      "execution_count": null,
      "outputs": [
        {
          "output_type": "stream",
          "name": "stdout",
          "text": [
            "Func Inner {'var': 'Hi', 'x': 10, 'printer': <function func.<locals>.printer at 0x7b8e98791120>}\n"
          ]
        }
      ]
    },
    {
      "cell_type": "code",
      "source": [
        "# Ex7\n",
        "\n",
        "print('Ex7 >', globals())   # 전역 scope 전체 출력\n",
        "test_variable = 100\n",
        "print('Ex7 >', globals())"
      ],
      "metadata": {
        "colab": {
          "base_uri": "https://localhost:8080/"
        },
        "id": "IrNX-5WgZfl5",
        "outputId": "4c7d2d63-488d-4e9e-941b-6827cf2d47ea"
      },
      "execution_count": null,
      "outputs": [
        {
          "output_type": "stream",
          "name": "stdout",
          "text": [
            "Ex7 > {'__name__': '__main__', '__doc__': 'Automatically created module for IPython interactive environment', '__package__': None, '__loader__': None, '__spec__': None, '__builtin__': <module 'builtins' (built-in)>, '__builtins__': <module 'builtins' (built-in)>, '_ih': ['', \"# Ex1\\n\\na = 10  # Global variable\\n\\ndef foo():\\n  # Read global variable\\n  print('Ex1 > ', a)\\n\\nfoo()\", \"# Ex1\\n\\na = 10  # Global variable\\n\\ndef foo():\\n  # Read global variable\\n  print('Ex1 >', a)\\n\\nfoo()\", \"# Ex1\\n\\na = 10  # Global variable\\n\\ndef foo():\\n  # Read global variable\\n  print('Ex1 >', a)\\n\\nfoo()\\n\\n# Read global variable\\nprint('Ex1 >', a)\", \"# Ex2\\n\\nb = 20\\n\\ndef bar():\\n  b = 30\\n  print('Ex2 >', b)\\n\\nbar()\", \"# Ex2\\n\\nb = 20\\n\\ndef bar():\\n  b = 30  # Local variable\\n  # Read local variable\\n  print('Ex2 >', b)\\n\\nbar()\\n\\n# Read global variable\\nprint('Ex2 >', b)\", \"# Ex3\\n\\nc = 40\\n\\ndef foobar():\\n  c = c + 10\\n  print('Ex3 >', c)\\n\\nfoobar()\", \"# Ex3\\n\\nc = 40\\n\\ndef foobar():\\n  # c = c + 10    # 전역에 있는 값을 지역에서 어떤 특정한 예약어 없이는 수정할 수 '있다'\\n  c = 10\\n  print('Ex3 >', c)\\n\\nfoobar()\", \"# Ex4\\n\\nd = 50\\n\\ndef barfoo():\\n  global d\\n  d = 60\\n  d += 100\\n  print('Ex4 >', d)\\n\\nbarfoo()\", \"# Ex4\\n\\nd = 50\\n\\ndef barfoo():\\n  global d    # 개발 시 global 선언은 자제하는 것이 좋음 (코드 유지보수의 어려움)\\n  d = 60\\n  d += 100\\n  print('Ex4 >', d)\\n\\nbarfoo()\\n\\nprint('Ex4 >', d)\", \"# Ex5(중요)   # 클로저, 데코레이터\\n\\ndef outer():\\n  e = 70\\n  def inner():\\n    e += 10\\n    print('Ex5 >', e)\\n  return inner\\n\\nin_test = outer()   # Closure\\n\\nin_test()\", \"# Ex5(중요)   # Closure, Decorator\\n\\ndef outer():\\n  e = 70\\n  def inner():\\n    nonlocal e  # 없으면 UnboundLocalError  # nonlocal은 여러 오픈소스에서 많이 등장하는 예약어\\n    e += 10\\n    print('Ex5 >', e)\\n  return inner\\n\\nin_test = outer()   # Closure\\n\\nin_test()\", \"# Ex5(중요)   # Closure, Decorator\\n\\ndef outer():\\n  e = 70\\n  def inner():\\n    nonlocal e  # 없으면 UnboundLocalError  # nonlocal은 여러 오픈소스에서 많이 등장하는 예약어   # 효율적 운영\\n    e += 10\\n    print('Ex5 >', e)\\n  return inner\\n\\nin_test = outer()   # Closure\\n\\nin_test()\\nin_test()\", \"# Ex5(중요)   # Closure, Decorator\\n\\ndef outer():\\n  e = 70\\n  def inner():\\n    nonlocal e  # 없으면 UnboundLocalError  # nonlocal은 여러 오픈소스에서 많이 등장하는 예약어   # 효율적 운영\\n    e += 10\\n    print('Ex5 >', e)\\n  return inner\\n\\nin_test = outer()   # Closure\\n\\nin_test()\\nin_test()\\nin_test()\", \"# Ex5(중요)   # Closure, Decorator\\n\\ndef outer():\\n  e = 70\\n  def inner():\\n    nonlocal e  # 없으면 UnboundLocalError  # nonlocal은 여러 오픈소스에서 많이 등장하는 예약어   # 효율적 운영\\n    e += 10\\n    print('Ex5 >', e)\\n  return inner\\n\\nin_test = outer()   # Closure\\n\\nin_test()\\nin_test()\\nin_test()\\nin_test()\\nin_test()\\nin_test()\", \"# Ex6\\n\\ndef func(var):\\n  x = 10\\n  def printer():\\n    print('Ex6 > Printer Func Inner')\\n  print('Func Inner', locals())\\n\\nfunc('Hi')\", \"# Ex7\\n\\nprint('Ex7 >', globals())\", \"# Ex7\\n\\nprint('Ex7 >', globals())\", \"# Ex7\\n\\nprint('Ex7 >', globals())\\ntest_variable = 100\\nprint('Ex7 >', globals()\", \"# Ex7\\n\\nprint('Ex7 >', globals())\\ntest_variable = 100\\nprint('Ex7 >', globals())\"], '_oh': {}, '_dh': ['/content'], 'In': ['', \"# Ex1\\n\\na = 10  # Global variable\\n\\ndef foo():\\n  # Read global variable\\n  print('Ex1 > ', a)\\n\\nfoo()\", \"# Ex1\\n\\na = 10  # Global variable\\n\\ndef foo():\\n  # Read global variable\\n  print('Ex1 >', a)\\n\\nfoo()\", \"# Ex1\\n\\na = 10  # Global variable\\n\\ndef foo():\\n  # Read global variable\\n  print('Ex1 >', a)\\n\\nfoo()\\n\\n# Read global variable\\nprint('Ex1 >', a)\", \"# Ex2\\n\\nb = 20\\n\\ndef bar():\\n  b = 30\\n  print('Ex2 >', b)\\n\\nbar()\", \"# Ex2\\n\\nb = 20\\n\\ndef bar():\\n  b = 30  # Local variable\\n  # Read local variable\\n  print('Ex2 >', b)\\n\\nbar()\\n\\n# Read global variable\\nprint('Ex2 >', b)\", \"# Ex3\\n\\nc = 40\\n\\ndef foobar():\\n  c = c + 10\\n  print('Ex3 >', c)\\n\\nfoobar()\", \"# Ex3\\n\\nc = 40\\n\\ndef foobar():\\n  # c = c + 10    # 전역에 있는 값을 지역에서 어떤 특정한 예약어 없이는 수정할 수 '있다'\\n  c = 10\\n  print('Ex3 >', c)\\n\\nfoobar()\", \"# Ex4\\n\\nd = 50\\n\\ndef barfoo():\\n  global d\\n  d = 60\\n  d += 100\\n  print('Ex4 >', d)\\n\\nbarfoo()\", \"# Ex4\\n\\nd = 50\\n\\ndef barfoo():\\n  global d    # 개발 시 global 선언은 자제하는 것이 좋음 (코드 유지보수의 어려움)\\n  d = 60\\n  d += 100\\n  print('Ex4 >', d)\\n\\nbarfoo()\\n\\nprint('Ex4 >', d)\", \"# Ex5(중요)   # 클로저, 데코레이터\\n\\ndef outer():\\n  e = 70\\n  def inner():\\n    e += 10\\n    print('Ex5 >', e)\\n  return inner\\n\\nin_test = outer()   # Closure\\n\\nin_test()\", \"# Ex5(중요)   # Closure, Decorator\\n\\ndef outer():\\n  e = 70\\n  def inner():\\n    nonlocal e  # 없으면 UnboundLocalError  # nonlocal은 여러 오픈소스에서 많이 등장하는 예약어\\n    e += 10\\n    print('Ex5 >', e)\\n  return inner\\n\\nin_test = outer()   # Closure\\n\\nin_test()\", \"# Ex5(중요)   # Closure, Decorator\\n\\ndef outer():\\n  e = 70\\n  def inner():\\n    nonlocal e  # 없으면 UnboundLocalError  # nonlocal은 여러 오픈소스에서 많이 등장하는 예약어   # 효율적 운영\\n    e += 10\\n    print('Ex5 >', e)\\n  return inner\\n\\nin_test = outer()   # Closure\\n\\nin_test()\\nin_test()\", \"# Ex5(중요)   # Closure, Decorator\\n\\ndef outer():\\n  e = 70\\n  def inner():\\n    nonlocal e  # 없으면 UnboundLocalError  # nonlocal은 여러 오픈소스에서 많이 등장하는 예약어   # 효율적 운영\\n    e += 10\\n    print('Ex5 >', e)\\n  return inner\\n\\nin_test = outer()   # Closure\\n\\nin_test()\\nin_test()\\nin_test()\", \"# Ex5(중요)   # Closure, Decorator\\n\\ndef outer():\\n  e = 70\\n  def inner():\\n    nonlocal e  # 없으면 UnboundLocalError  # nonlocal은 여러 오픈소스에서 많이 등장하는 예약어   # 효율적 운영\\n    e += 10\\n    print('Ex5 >', e)\\n  return inner\\n\\nin_test = outer()   # Closure\\n\\nin_test()\\nin_test()\\nin_test()\\nin_test()\\nin_test()\\nin_test()\", \"# Ex6\\n\\ndef func(var):\\n  x = 10\\n  def printer():\\n    print('Ex6 > Printer Func Inner')\\n  print('Func Inner', locals())\\n\\nfunc('Hi')\", \"# Ex7\\n\\nprint('Ex7 >', globals())\", \"# Ex7\\n\\nprint('Ex7 >', globals())\", \"# Ex7\\n\\nprint('Ex7 >', globals())\\ntest_variable = 100\\nprint('Ex7 >', globals()\", \"# Ex7\\n\\nprint('Ex7 >', globals())\\ntest_variable = 100\\nprint('Ex7 >', globals())\"], 'Out': {}, 'get_ipython': <bound method InteractiveShell.get_ipython of <google.colab._shell.Shell object at 0x7b8edbeda110>>, 'exit': <IPython.core.autocall.ZMQExitAutocall object at 0x7b8edbeda6b0>, 'quit': <IPython.core.autocall.ZMQExitAutocall object at 0x7b8edbeda6b0>, '_': '', '__': '', '___': '', '_i': \"# Ex7\\n\\nprint('Ex7 >', globals())\\ntest_variable = 100\\nprint('Ex7 >', globals()\", '_ii': \"# Ex7\\n\\nprint('Ex7 >', globals())\", '_iii': \"# Ex7\\n\\nprint('Ex7 >', globals())\", '_i1': \"# Ex1\\n\\na = 10  # Global variable\\n\\ndef foo():\\n  # Read global variable\\n  print('Ex1 > ', a)\\n\\nfoo()\", 'a': 10, 'foo': <function foo at 0x7b8eca9bd900>, '_i2': \"# Ex1\\n\\na = 10  # Global variable\\n\\ndef foo():\\n  # Read global variable\\n  print('Ex1 >', a)\\n\\nfoo()\", '_i3': \"# Ex1\\n\\na = 10  # Global variable\\n\\ndef foo():\\n  # Read global variable\\n  print('Ex1 >', a)\\n\\nfoo()\\n\\n# Read global variable\\nprint('Ex1 >', a)\", '_i4': \"# Ex2\\n\\nb = 20\\n\\ndef bar():\\n  b = 30\\n  print('Ex2 >', b)\\n\\nbar()\", 'b': 20, 'bar': <function bar at 0x7b8e987e3eb0>, '_i5': \"# Ex2\\n\\nb = 20\\n\\ndef bar():\\n  b = 30  # Local variable\\n  # Read local variable\\n  print('Ex2 >', b)\\n\\nbar()\\n\\n# Read global variable\\nprint('Ex2 >', b)\", '_i6': \"# Ex3\\n\\nc = 40\\n\\ndef foobar():\\n  c = c + 10\\n  print('Ex3 >', c)\\n\\nfoobar()\", 'c': 40, 'foobar': <function foobar at 0x7b8e98618430>, '_i7': \"# Ex3\\n\\nc = 40\\n\\ndef foobar():\\n  # c = c + 10    # 전역에 있는 값을 지역에서 어떤 특정한 예약어 없이는 수정할 수 '있다'\\n  c = 10\\n  print('Ex3 >', c)\\n\\nfoobar()\", '_i8': \"# Ex4\\n\\nd = 50\\n\\ndef barfoo():\\n  global d\\n  d = 60\\n  d += 100\\n  print('Ex4 >', d)\\n\\nbarfoo()\", 'd': 160, 'barfoo': <function barfoo at 0x7b8e98619a20>, '_i9': \"# Ex4\\n\\nd = 50\\n\\ndef barfoo():\\n  global d    # 개발 시 global 선언은 자제하는 것이 좋음 (코드 유지보수의 어려움)\\n  d = 60\\n  d += 100\\n  print('Ex4 >', d)\\n\\nbarfoo()\\n\\nprint('Ex4 >', d)\", '_i10': \"# Ex5(중요)   # 클로저, 데코레이터\\n\\ndef outer():\\n  e = 70\\n  def inner():\\n    e += 10\\n    print('Ex5 >', e)\\n  return inner\\n\\nin_test = outer()   # Closure\\n\\nin_test()\", 'outer': <function outer at 0x7b8e98678040>, 'in_test': <function outer.<locals>.inner at 0x7b8e98678700>, '_i11': \"# Ex5(중요)   # Closure, Decorator\\n\\ndef outer():\\n  e = 70\\n  def inner():\\n    nonlocal e  # 없으면 UnboundLocalError  # nonlocal은 여러 오픈소스에서 많이 등장하는 예약어\\n    e += 10\\n    print('Ex5 >', e)\\n  return inner\\n\\nin_test = outer()   # Closure\\n\\nin_test()\", '_i12': \"# Ex5(중요)   # Closure, Decorator\\n\\ndef outer():\\n  e = 70\\n  def inner():\\n    nonlocal e  # 없으면 UnboundLocalError  # nonlocal은 여러 오픈소스에서 많이 등장하는 예약어   # 효율적 운영\\n    e += 10\\n    print('Ex5 >', e)\\n  return inner\\n\\nin_test = outer()   # Closure\\n\\nin_test()\\nin_test()\", '_i13': \"# Ex5(중요)   # Closure, Decorator\\n\\ndef outer():\\n  e = 70\\n  def inner():\\n    nonlocal e  # 없으면 UnboundLocalError  # nonlocal은 여러 오픈소스에서 많이 등장하는 예약어   # 효율적 운영\\n    e += 10\\n    print('Ex5 >', e)\\n  return inner\\n\\nin_test = outer()   # Closure\\n\\nin_test()\\nin_test()\\nin_test()\", '_i14': \"# Ex5(중요)   # Closure, Decorator\\n\\ndef outer():\\n  e = 70\\n  def inner():\\n    nonlocal e  # 없으면 UnboundLocalError  # nonlocal은 여러 오픈소스에서 많이 등장하는 예약어   # 효율적 운영\\n    e += 10\\n    print('Ex5 >', e)\\n  return inner\\n\\nin_test = outer()   # Closure\\n\\nin_test()\\nin_test()\\nin_test()\\nin_test()\\nin_test()\\nin_test()\", '_i15': \"# Ex6\\n\\ndef func(var):\\n  x = 10\\n  def printer():\\n    print('Ex6 > Printer Func Inner')\\n  print('Func Inner', locals())\\n\\nfunc('Hi')\", 'func': <function func at 0x7b8e98791240>, '_i16': \"# Ex7\\n\\nprint('Ex7 >', globals())\", '_i17': \"# Ex7\\n\\nprint('Ex7 >', globals())\", '_i18': \"# Ex7\\n\\nprint('Ex7 >', globals())\\ntest_variable = 100\\nprint('Ex7 >', globals()\", '_i19': \"# Ex7\\n\\nprint('Ex7 >', globals())\\ntest_variable = 100\\nprint('Ex7 >', globals())\"}\n",
            "Ex7 > {'__name__': '__main__', '__doc__': 'Automatically created module for IPython interactive environment', '__package__': None, '__loader__': None, '__spec__': None, '__builtin__': <module 'builtins' (built-in)>, '__builtins__': <module 'builtins' (built-in)>, '_ih': ['', \"# Ex1\\n\\na = 10  # Global variable\\n\\ndef foo():\\n  # Read global variable\\n  print('Ex1 > ', a)\\n\\nfoo()\", \"# Ex1\\n\\na = 10  # Global variable\\n\\ndef foo():\\n  # Read global variable\\n  print('Ex1 >', a)\\n\\nfoo()\", \"# Ex1\\n\\na = 10  # Global variable\\n\\ndef foo():\\n  # Read global variable\\n  print('Ex1 >', a)\\n\\nfoo()\\n\\n# Read global variable\\nprint('Ex1 >', a)\", \"# Ex2\\n\\nb = 20\\n\\ndef bar():\\n  b = 30\\n  print('Ex2 >', b)\\n\\nbar()\", \"# Ex2\\n\\nb = 20\\n\\ndef bar():\\n  b = 30  # Local variable\\n  # Read local variable\\n  print('Ex2 >', b)\\n\\nbar()\\n\\n# Read global variable\\nprint('Ex2 >', b)\", \"# Ex3\\n\\nc = 40\\n\\ndef foobar():\\n  c = c + 10\\n  print('Ex3 >', c)\\n\\nfoobar()\", \"# Ex3\\n\\nc = 40\\n\\ndef foobar():\\n  # c = c + 10    # 전역에 있는 값을 지역에서 어떤 특정한 예약어 없이는 수정할 수 '있다'\\n  c = 10\\n  print('Ex3 >', c)\\n\\nfoobar()\", \"# Ex4\\n\\nd = 50\\n\\ndef barfoo():\\n  global d\\n  d = 60\\n  d += 100\\n  print('Ex4 >', d)\\n\\nbarfoo()\", \"# Ex4\\n\\nd = 50\\n\\ndef barfoo():\\n  global d    # 개발 시 global 선언은 자제하는 것이 좋음 (코드 유지보수의 어려움)\\n  d = 60\\n  d += 100\\n  print('Ex4 >', d)\\n\\nbarfoo()\\n\\nprint('Ex4 >', d)\", \"# Ex5(중요)   # 클로저, 데코레이터\\n\\ndef outer():\\n  e = 70\\n  def inner():\\n    e += 10\\n    print('Ex5 >', e)\\n  return inner\\n\\nin_test = outer()   # Closure\\n\\nin_test()\", \"# Ex5(중요)   # Closure, Decorator\\n\\ndef outer():\\n  e = 70\\n  def inner():\\n    nonlocal e  # 없으면 UnboundLocalError  # nonlocal은 여러 오픈소스에서 많이 등장하는 예약어\\n    e += 10\\n    print('Ex5 >', e)\\n  return inner\\n\\nin_test = outer()   # Closure\\n\\nin_test()\", \"# Ex5(중요)   # Closure, Decorator\\n\\ndef outer():\\n  e = 70\\n  def inner():\\n    nonlocal e  # 없으면 UnboundLocalError  # nonlocal은 여러 오픈소스에서 많이 등장하는 예약어   # 효율적 운영\\n    e += 10\\n    print('Ex5 >', e)\\n  return inner\\n\\nin_test = outer()   # Closure\\n\\nin_test()\\nin_test()\", \"# Ex5(중요)   # Closure, Decorator\\n\\ndef outer():\\n  e = 70\\n  def inner():\\n    nonlocal e  # 없으면 UnboundLocalError  # nonlocal은 여러 오픈소스에서 많이 등장하는 예약어   # 효율적 운영\\n    e += 10\\n    print('Ex5 >', e)\\n  return inner\\n\\nin_test = outer()   # Closure\\n\\nin_test()\\nin_test()\\nin_test()\", \"# Ex5(중요)   # Closure, Decorator\\n\\ndef outer():\\n  e = 70\\n  def inner():\\n    nonlocal e  # 없으면 UnboundLocalError  # nonlocal은 여러 오픈소스에서 많이 등장하는 예약어   # 효율적 운영\\n    e += 10\\n    print('Ex5 >', e)\\n  return inner\\n\\nin_test = outer()   # Closure\\n\\nin_test()\\nin_test()\\nin_test()\\nin_test()\\nin_test()\\nin_test()\", \"# Ex6\\n\\ndef func(var):\\n  x = 10\\n  def printer():\\n    print('Ex6 > Printer Func Inner')\\n  print('Func Inner', locals())\\n\\nfunc('Hi')\", \"# Ex7\\n\\nprint('Ex7 >', globals())\", \"# Ex7\\n\\nprint('Ex7 >', globals())\", \"# Ex7\\n\\nprint('Ex7 >', globals())\\ntest_variable = 100\\nprint('Ex7 >', globals()\", \"# Ex7\\n\\nprint('Ex7 >', globals())\\ntest_variable = 100\\nprint('Ex7 >', globals())\"], '_oh': {}, '_dh': ['/content'], 'In': ['', \"# Ex1\\n\\na = 10  # Global variable\\n\\ndef foo():\\n  # Read global variable\\n  print('Ex1 > ', a)\\n\\nfoo()\", \"# Ex1\\n\\na = 10  # Global variable\\n\\ndef foo():\\n  # Read global variable\\n  print('Ex1 >', a)\\n\\nfoo()\", \"# Ex1\\n\\na = 10  # Global variable\\n\\ndef foo():\\n  # Read global variable\\n  print('Ex1 >', a)\\n\\nfoo()\\n\\n# Read global variable\\nprint('Ex1 >', a)\", \"# Ex2\\n\\nb = 20\\n\\ndef bar():\\n  b = 30\\n  print('Ex2 >', b)\\n\\nbar()\", \"# Ex2\\n\\nb = 20\\n\\ndef bar():\\n  b = 30  # Local variable\\n  # Read local variable\\n  print('Ex2 >', b)\\n\\nbar()\\n\\n# Read global variable\\nprint('Ex2 >', b)\", \"# Ex3\\n\\nc = 40\\n\\ndef foobar():\\n  c = c + 10\\n  print('Ex3 >', c)\\n\\nfoobar()\", \"# Ex3\\n\\nc = 40\\n\\ndef foobar():\\n  # c = c + 10    # 전역에 있는 값을 지역에서 어떤 특정한 예약어 없이는 수정할 수 '있다'\\n  c = 10\\n  print('Ex3 >', c)\\n\\nfoobar()\", \"# Ex4\\n\\nd = 50\\n\\ndef barfoo():\\n  global d\\n  d = 60\\n  d += 100\\n  print('Ex4 >', d)\\n\\nbarfoo()\", \"# Ex4\\n\\nd = 50\\n\\ndef barfoo():\\n  global d    # 개발 시 global 선언은 자제하는 것이 좋음 (코드 유지보수의 어려움)\\n  d = 60\\n  d += 100\\n  print('Ex4 >', d)\\n\\nbarfoo()\\n\\nprint('Ex4 >', d)\", \"# Ex5(중요)   # 클로저, 데코레이터\\n\\ndef outer():\\n  e = 70\\n  def inner():\\n    e += 10\\n    print('Ex5 >', e)\\n  return inner\\n\\nin_test = outer()   # Closure\\n\\nin_test()\", \"# Ex5(중요)   # Closure, Decorator\\n\\ndef outer():\\n  e = 70\\n  def inner():\\n    nonlocal e  # 없으면 UnboundLocalError  # nonlocal은 여러 오픈소스에서 많이 등장하는 예약어\\n    e += 10\\n    print('Ex5 >', e)\\n  return inner\\n\\nin_test = outer()   # Closure\\n\\nin_test()\", \"# Ex5(중요)   # Closure, Decorator\\n\\ndef outer():\\n  e = 70\\n  def inner():\\n    nonlocal e  # 없으면 UnboundLocalError  # nonlocal은 여러 오픈소스에서 많이 등장하는 예약어   # 효율적 운영\\n    e += 10\\n    print('Ex5 >', e)\\n  return inner\\n\\nin_test = outer()   # Closure\\n\\nin_test()\\nin_test()\", \"# Ex5(중요)   # Closure, Decorator\\n\\ndef outer():\\n  e = 70\\n  def inner():\\n    nonlocal e  # 없으면 UnboundLocalError  # nonlocal은 여러 오픈소스에서 많이 등장하는 예약어   # 효율적 운영\\n    e += 10\\n    print('Ex5 >', e)\\n  return inner\\n\\nin_test = outer()   # Closure\\n\\nin_test()\\nin_test()\\nin_test()\", \"# Ex5(중요)   # Closure, Decorator\\n\\ndef outer():\\n  e = 70\\n  def inner():\\n    nonlocal e  # 없으면 UnboundLocalError  # nonlocal은 여러 오픈소스에서 많이 등장하는 예약어   # 효율적 운영\\n    e += 10\\n    print('Ex5 >', e)\\n  return inner\\n\\nin_test = outer()   # Closure\\n\\nin_test()\\nin_test()\\nin_test()\\nin_test()\\nin_test()\\nin_test()\", \"# Ex6\\n\\ndef func(var):\\n  x = 10\\n  def printer():\\n    print('Ex6 > Printer Func Inner')\\n  print('Func Inner', locals())\\n\\nfunc('Hi')\", \"# Ex7\\n\\nprint('Ex7 >', globals())\", \"# Ex7\\n\\nprint('Ex7 >', globals())\", \"# Ex7\\n\\nprint('Ex7 >', globals())\\ntest_variable = 100\\nprint('Ex7 >', globals()\", \"# Ex7\\n\\nprint('Ex7 >', globals())\\ntest_variable = 100\\nprint('Ex7 >', globals())\"], 'Out': {}, 'get_ipython': <bound method InteractiveShell.get_ipython of <google.colab._shell.Shell object at 0x7b8edbeda110>>, 'exit': <IPython.core.autocall.ZMQExitAutocall object at 0x7b8edbeda6b0>, 'quit': <IPython.core.autocall.ZMQExitAutocall object at 0x7b8edbeda6b0>, '_': '', '__': '', '___': '', '_i': \"# Ex7\\n\\nprint('Ex7 >', globals())\\ntest_variable = 100\\nprint('Ex7 >', globals()\", '_ii': \"# Ex7\\n\\nprint('Ex7 >', globals())\", '_iii': \"# Ex7\\n\\nprint('Ex7 >', globals())\", '_i1': \"# Ex1\\n\\na = 10  # Global variable\\n\\ndef foo():\\n  # Read global variable\\n  print('Ex1 > ', a)\\n\\nfoo()\", 'a': 10, 'foo': <function foo at 0x7b8eca9bd900>, '_i2': \"# Ex1\\n\\na = 10  # Global variable\\n\\ndef foo():\\n  # Read global variable\\n  print('Ex1 >', a)\\n\\nfoo()\", '_i3': \"# Ex1\\n\\na = 10  # Global variable\\n\\ndef foo():\\n  # Read global variable\\n  print('Ex1 >', a)\\n\\nfoo()\\n\\n# Read global variable\\nprint('Ex1 >', a)\", '_i4': \"# Ex2\\n\\nb = 20\\n\\ndef bar():\\n  b = 30\\n  print('Ex2 >', b)\\n\\nbar()\", 'b': 20, 'bar': <function bar at 0x7b8e987e3eb0>, '_i5': \"# Ex2\\n\\nb = 20\\n\\ndef bar():\\n  b = 30  # Local variable\\n  # Read local variable\\n  print('Ex2 >', b)\\n\\nbar()\\n\\n# Read global variable\\nprint('Ex2 >', b)\", '_i6': \"# Ex3\\n\\nc = 40\\n\\ndef foobar():\\n  c = c + 10\\n  print('Ex3 >', c)\\n\\nfoobar()\", 'c': 40, 'foobar': <function foobar at 0x7b8e98618430>, '_i7': \"# Ex3\\n\\nc = 40\\n\\ndef foobar():\\n  # c = c + 10    # 전역에 있는 값을 지역에서 어떤 특정한 예약어 없이는 수정할 수 '있다'\\n  c = 10\\n  print('Ex3 >', c)\\n\\nfoobar()\", '_i8': \"# Ex4\\n\\nd = 50\\n\\ndef barfoo():\\n  global d\\n  d = 60\\n  d += 100\\n  print('Ex4 >', d)\\n\\nbarfoo()\", 'd': 160, 'barfoo': <function barfoo at 0x7b8e98619a20>, '_i9': \"# Ex4\\n\\nd = 50\\n\\ndef barfoo():\\n  global d    # 개발 시 global 선언은 자제하는 것이 좋음 (코드 유지보수의 어려움)\\n  d = 60\\n  d += 100\\n  print('Ex4 >', d)\\n\\nbarfoo()\\n\\nprint('Ex4 >', d)\", '_i10': \"# Ex5(중요)   # 클로저, 데코레이터\\n\\ndef outer():\\n  e = 70\\n  def inner():\\n    e += 10\\n    print('Ex5 >', e)\\n  return inner\\n\\nin_test = outer()   # Closure\\n\\nin_test()\", 'outer': <function outer at 0x7b8e98678040>, 'in_test': <function outer.<locals>.inner at 0x7b8e98678700>, '_i11': \"# Ex5(중요)   # Closure, Decorator\\n\\ndef outer():\\n  e = 70\\n  def inner():\\n    nonlocal e  # 없으면 UnboundLocalError  # nonlocal은 여러 오픈소스에서 많이 등장하는 예약어\\n    e += 10\\n    print('Ex5 >', e)\\n  return inner\\n\\nin_test = outer()   # Closure\\n\\nin_test()\", '_i12': \"# Ex5(중요)   # Closure, Decorator\\n\\ndef outer():\\n  e = 70\\n  def inner():\\n    nonlocal e  # 없으면 UnboundLocalError  # nonlocal은 여러 오픈소스에서 많이 등장하는 예약어   # 효율적 운영\\n    e += 10\\n    print('Ex5 >', e)\\n  return inner\\n\\nin_test = outer()   # Closure\\n\\nin_test()\\nin_test()\", '_i13': \"# Ex5(중요)   # Closure, Decorator\\n\\ndef outer():\\n  e = 70\\n  def inner():\\n    nonlocal e  # 없으면 UnboundLocalError  # nonlocal은 여러 오픈소스에서 많이 등장하는 예약어   # 효율적 운영\\n    e += 10\\n    print('Ex5 >', e)\\n  return inner\\n\\nin_test = outer()   # Closure\\n\\nin_test()\\nin_test()\\nin_test()\", '_i14': \"# Ex5(중요)   # Closure, Decorator\\n\\ndef outer():\\n  e = 70\\n  def inner():\\n    nonlocal e  # 없으면 UnboundLocalError  # nonlocal은 여러 오픈소스에서 많이 등장하는 예약어   # 효율적 운영\\n    e += 10\\n    print('Ex5 >', e)\\n  return inner\\n\\nin_test = outer()   # Closure\\n\\nin_test()\\nin_test()\\nin_test()\\nin_test()\\nin_test()\\nin_test()\", '_i15': \"# Ex6\\n\\ndef func(var):\\n  x = 10\\n  def printer():\\n    print('Ex6 > Printer Func Inner')\\n  print('Func Inner', locals())\\n\\nfunc('Hi')\", 'func': <function func at 0x7b8e98791240>, '_i16': \"# Ex7\\n\\nprint('Ex7 >', globals())\", '_i17': \"# Ex7\\n\\nprint('Ex7 >', globals())\", '_i18': \"# Ex7\\n\\nprint('Ex7 >', globals())\\ntest_variable = 100\\nprint('Ex7 >', globals()\", '_i19': \"# Ex7\\n\\nprint('Ex7 >', globals())\\ntest_variable = 100\\nprint('Ex7 >', globals())\", 'test_variable': 100}\n"
          ]
        }
      ]
    },
    {
      "cell_type": "code",
      "source": [
        "# Ex8 (지역에서 dynamic하게 전역 변수 생성)\n",
        "\n",
        "for i in range(1, 10):\n",
        "  for k in range(1, 10):\n",
        "    globals()['plus_{}_{}'.format(i, k)] = i + k\n",
        "\n",
        "print(globals())\n",
        "print('Ex8 >', plus_5_5)\n",
        "print('Ex8 >', plus_9_9)"
      ],
      "metadata": {
        "colab": {
          "base_uri": "https://localhost:8080/"
        },
        "id": "d1fsZtc4Zfjw",
        "outputId": "9f9b5428-e882-48fc-8442-7b30aa873b80"
      },
      "execution_count": null,
      "outputs": [
        {
          "output_type": "stream",
          "name": "stdout",
          "text": [
            "{'__name__': '__main__', '__doc__': 'Automatically created module for IPython interactive environment', '__package__': None, '__loader__': None, '__spec__': None, '__builtin__': <module 'builtins' (built-in)>, '__builtins__': <module 'builtins' (built-in)>, '_ih': ['', \"# Ex1\\n\\na = 10  # Global variable\\n\\ndef foo():\\n  # Read global variable\\n  print('Ex1 > ', a)\\n\\nfoo()\", \"# Ex1\\n\\na = 10  # Global variable\\n\\ndef foo():\\n  # Read global variable\\n  print('Ex1 >', a)\\n\\nfoo()\", \"# Ex1\\n\\na = 10  # Global variable\\n\\ndef foo():\\n  # Read global variable\\n  print('Ex1 >', a)\\n\\nfoo()\\n\\n# Read global variable\\nprint('Ex1 >', a)\", \"# Ex2\\n\\nb = 20\\n\\ndef bar():\\n  b = 30\\n  print('Ex2 >', b)\\n\\nbar()\", \"# Ex2\\n\\nb = 20\\n\\ndef bar():\\n  b = 30  # Local variable\\n  # Read local variable\\n  print('Ex2 >', b)\\n\\nbar()\\n\\n# Read global variable\\nprint('Ex2 >', b)\", \"# Ex3\\n\\nc = 40\\n\\ndef foobar():\\n  c = c + 10\\n  print('Ex3 >', c)\\n\\nfoobar()\", \"# Ex3\\n\\nc = 40\\n\\ndef foobar():\\n  # c = c + 10    # 전역에 있는 값을 지역에서 어떤 특정한 예약어 없이는 수정할 수 '있다'\\n  c = 10\\n  print('Ex3 >', c)\\n\\nfoobar()\", \"# Ex4\\n\\nd = 50\\n\\ndef barfoo():\\n  global d\\n  d = 60\\n  d += 100\\n  print('Ex4 >', d)\\n\\nbarfoo()\", \"# Ex4\\n\\nd = 50\\n\\ndef barfoo():\\n  global d    # 개발 시 global 선언은 자제하는 것이 좋음 (코드 유지보수의 어려움)\\n  d = 60\\n  d += 100\\n  print('Ex4 >', d)\\n\\nbarfoo()\\n\\nprint('Ex4 >', d)\", \"# Ex5(중요)   # 클로저, 데코레이터\\n\\ndef outer():\\n  e = 70\\n  def inner():\\n    e += 10\\n    print('Ex5 >', e)\\n  return inner\\n\\nin_test = outer()   # Closure\\n\\nin_test()\", \"# Ex5(중요)   # Closure, Decorator\\n\\ndef outer():\\n  e = 70\\n  def inner():\\n    nonlocal e  # 없으면 UnboundLocalError  # nonlocal은 여러 오픈소스에서 많이 등장하는 예약어\\n    e += 10\\n    print('Ex5 >', e)\\n  return inner\\n\\nin_test = outer()   # Closure\\n\\nin_test()\", \"# Ex5(중요)   # Closure, Decorator\\n\\ndef outer():\\n  e = 70\\n  def inner():\\n    nonlocal e  # 없으면 UnboundLocalError  # nonlocal은 여러 오픈소스에서 많이 등장하는 예약어   # 효율적 운영\\n    e += 10\\n    print('Ex5 >', e)\\n  return inner\\n\\nin_test = outer()   # Closure\\n\\nin_test()\\nin_test()\", \"# Ex5(중요)   # Closure, Decorator\\n\\ndef outer():\\n  e = 70\\n  def inner():\\n    nonlocal e  # 없으면 UnboundLocalError  # nonlocal은 여러 오픈소스에서 많이 등장하는 예약어   # 효율적 운영\\n    e += 10\\n    print('Ex5 >', e)\\n  return inner\\n\\nin_test = outer()   # Closure\\n\\nin_test()\\nin_test()\\nin_test()\", \"# Ex5(중요)   # Closure, Decorator\\n\\ndef outer():\\n  e = 70\\n  def inner():\\n    nonlocal e  # 없으면 UnboundLocalError  # nonlocal은 여러 오픈소스에서 많이 등장하는 예약어   # 효율적 운영\\n    e += 10\\n    print('Ex5 >', e)\\n  return inner\\n\\nin_test = outer()   # Closure\\n\\nin_test()\\nin_test()\\nin_test()\\nin_test()\\nin_test()\\nin_test()\", \"# Ex6\\n\\ndef func(var):\\n  x = 10\\n  def printer():\\n    print('Ex6 > Printer Func Inner')\\n  print('Func Inner', locals())\\n\\nfunc('Hi')\", \"# Ex7\\n\\nprint('Ex7 >', globals())\", \"# Ex7\\n\\nprint('Ex7 >', globals())\", \"# Ex7\\n\\nprint('Ex7 >', globals())\\ntest_variable = 100\\nprint('Ex7 >', globals()\", \"# Ex7\\n\\nprint('Ex7 >', globals())\\ntest_variable = 100\\nprint('Ex7 >', globals())\", \"# Ex8 (지역 -> 전역 변수 생성)\\n\\nfor i in range(1, 10):\\n  for k in range(1, 10):\\n    globals()['plus_{}_{}'.format(i, k)] = i + k\\n\\nprint(globals())\", \"# Ex8 (지역에서 dynamic하게 전역 변수 생성)\\n\\nfor i in range(1, 10):\\n  for k in range(1, 10):\\n    globals()['plus_{}_{}'.format(i, k)] = i + k\\n\\nprint(globals())\\nprint(plus_5_5)\", \"# Ex8 (지역에서 dynamic하게 전역 변수 생성)\\n\\nfor i in range(1, 10):\\n  for k in range(1, 10):\\n    globals()['plus_{}_{}'.format(i, k)] = i + k\\n\\nprint(globals())\\nprint('Ex8 >', plus_5_5)\", \"# Ex8 (지역에서 dynamic하게 전역 변수 생성)\\n\\nfor i in range(1, 10):\\n  for k in range(1, 10):\\n    globals()['plus_{}_{}'.format(i, k)] = i + k\\n\\nprint(globals())\\nprint('Ex8 >', plus_5_5)\\nprint('Ex8 >', plus_9_9)\", \"# Ex8 (지역에서 dynamic하게 전역 변수 생성)\\n\\nfor i in range(1, 10):\\n  for k in range(1, 10):\\n    globals()['plus_{}_{}'.format(i, k)] = i + k\\n\\nprint(globals())\\nprint('Ex8 >', plus_5_5)\\nprint('Ex8 >', plus_9_9)\"], '_oh': {}, '_dh': ['/content'], 'In': ['', \"# Ex1\\n\\na = 10  # Global variable\\n\\ndef foo():\\n  # Read global variable\\n  print('Ex1 > ', a)\\n\\nfoo()\", \"# Ex1\\n\\na = 10  # Global variable\\n\\ndef foo():\\n  # Read global variable\\n  print('Ex1 >', a)\\n\\nfoo()\", \"# Ex1\\n\\na = 10  # Global variable\\n\\ndef foo():\\n  # Read global variable\\n  print('Ex1 >', a)\\n\\nfoo()\\n\\n# Read global variable\\nprint('Ex1 >', a)\", \"# Ex2\\n\\nb = 20\\n\\ndef bar():\\n  b = 30\\n  print('Ex2 >', b)\\n\\nbar()\", \"# Ex2\\n\\nb = 20\\n\\ndef bar():\\n  b = 30  # Local variable\\n  # Read local variable\\n  print('Ex2 >', b)\\n\\nbar()\\n\\n# Read global variable\\nprint('Ex2 >', b)\", \"# Ex3\\n\\nc = 40\\n\\ndef foobar():\\n  c = c + 10\\n  print('Ex3 >', c)\\n\\nfoobar()\", \"# Ex3\\n\\nc = 40\\n\\ndef foobar():\\n  # c = c + 10    # 전역에 있는 값을 지역에서 어떤 특정한 예약어 없이는 수정할 수 '있다'\\n  c = 10\\n  print('Ex3 >', c)\\n\\nfoobar()\", \"# Ex4\\n\\nd = 50\\n\\ndef barfoo():\\n  global d\\n  d = 60\\n  d += 100\\n  print('Ex4 >', d)\\n\\nbarfoo()\", \"# Ex4\\n\\nd = 50\\n\\ndef barfoo():\\n  global d    # 개발 시 global 선언은 자제하는 것이 좋음 (코드 유지보수의 어려움)\\n  d = 60\\n  d += 100\\n  print('Ex4 >', d)\\n\\nbarfoo()\\n\\nprint('Ex4 >', d)\", \"# Ex5(중요)   # 클로저, 데코레이터\\n\\ndef outer():\\n  e = 70\\n  def inner():\\n    e += 10\\n    print('Ex5 >', e)\\n  return inner\\n\\nin_test = outer()   # Closure\\n\\nin_test()\", \"# Ex5(중요)   # Closure, Decorator\\n\\ndef outer():\\n  e = 70\\n  def inner():\\n    nonlocal e  # 없으면 UnboundLocalError  # nonlocal은 여러 오픈소스에서 많이 등장하는 예약어\\n    e += 10\\n    print('Ex5 >', e)\\n  return inner\\n\\nin_test = outer()   # Closure\\n\\nin_test()\", \"# Ex5(중요)   # Closure, Decorator\\n\\ndef outer():\\n  e = 70\\n  def inner():\\n    nonlocal e  # 없으면 UnboundLocalError  # nonlocal은 여러 오픈소스에서 많이 등장하는 예약어   # 효율적 운영\\n    e += 10\\n    print('Ex5 >', e)\\n  return inner\\n\\nin_test = outer()   # Closure\\n\\nin_test()\\nin_test()\", \"# Ex5(중요)   # Closure, Decorator\\n\\ndef outer():\\n  e = 70\\n  def inner():\\n    nonlocal e  # 없으면 UnboundLocalError  # nonlocal은 여러 오픈소스에서 많이 등장하는 예약어   # 효율적 운영\\n    e += 10\\n    print('Ex5 >', e)\\n  return inner\\n\\nin_test = outer()   # Closure\\n\\nin_test()\\nin_test()\\nin_test()\", \"# Ex5(중요)   # Closure, Decorator\\n\\ndef outer():\\n  e = 70\\n  def inner():\\n    nonlocal e  # 없으면 UnboundLocalError  # nonlocal은 여러 오픈소스에서 많이 등장하는 예약어   # 효율적 운영\\n    e += 10\\n    print('Ex5 >', e)\\n  return inner\\n\\nin_test = outer()   # Closure\\n\\nin_test()\\nin_test()\\nin_test()\\nin_test()\\nin_test()\\nin_test()\", \"# Ex6\\n\\ndef func(var):\\n  x = 10\\n  def printer():\\n    print('Ex6 > Printer Func Inner')\\n  print('Func Inner', locals())\\n\\nfunc('Hi')\", \"# Ex7\\n\\nprint('Ex7 >', globals())\", \"# Ex7\\n\\nprint('Ex7 >', globals())\", \"# Ex7\\n\\nprint('Ex7 >', globals())\\ntest_variable = 100\\nprint('Ex7 >', globals()\", \"# Ex7\\n\\nprint('Ex7 >', globals())\\ntest_variable = 100\\nprint('Ex7 >', globals())\", \"# Ex8 (지역 -> 전역 변수 생성)\\n\\nfor i in range(1, 10):\\n  for k in range(1, 10):\\n    globals()['plus_{}_{}'.format(i, k)] = i + k\\n\\nprint(globals())\", \"# Ex8 (지역에서 dynamic하게 전역 변수 생성)\\n\\nfor i in range(1, 10):\\n  for k in range(1, 10):\\n    globals()['plus_{}_{}'.format(i, k)] = i + k\\n\\nprint(globals())\\nprint(plus_5_5)\", \"# Ex8 (지역에서 dynamic하게 전역 변수 생성)\\n\\nfor i in range(1, 10):\\n  for k in range(1, 10):\\n    globals()['plus_{}_{}'.format(i, k)] = i + k\\n\\nprint(globals())\\nprint('Ex8 >', plus_5_5)\", \"# Ex8 (지역에서 dynamic하게 전역 변수 생성)\\n\\nfor i in range(1, 10):\\n  for k in range(1, 10):\\n    globals()['plus_{}_{}'.format(i, k)] = i + k\\n\\nprint(globals())\\nprint('Ex8 >', plus_5_5)\\nprint('Ex8 >', plus_9_9)\", \"# Ex8 (지역에서 dynamic하게 전역 변수 생성)\\n\\nfor i in range(1, 10):\\n  for k in range(1, 10):\\n    globals()['plus_{}_{}'.format(i, k)] = i + k\\n\\nprint(globals())\\nprint('Ex8 >', plus_5_5)\\nprint('Ex8 >', plus_9_9)\"], 'Out': {}, 'get_ipython': <bound method InteractiveShell.get_ipython of <google.colab._shell.Shell object at 0x7b8edbeda110>>, 'exit': <IPython.core.autocall.ZMQExitAutocall object at 0x7b8edbeda6b0>, 'quit': <IPython.core.autocall.ZMQExitAutocall object at 0x7b8edbeda6b0>, '_': '', '__': '', '___': '', '_i': \"# Ex8 (지역에서 dynamic하게 전역 변수 생성)\\n\\nfor i in range(1, 10):\\n  for k in range(1, 10):\\n    globals()['plus_{}_{}'.format(i, k)] = i + k\\n\\nprint(globals())\\nprint('Ex8 >', plus_5_5)\\nprint('Ex8 >', plus_9_9)\", '_ii': \"# Ex8 (지역에서 dynamic하게 전역 변수 생성)\\n\\nfor i in range(1, 10):\\n  for k in range(1, 10):\\n    globals()['plus_{}_{}'.format(i, k)] = i + k\\n\\nprint(globals())\\nprint('Ex8 >', plus_5_5)\", '_iii': \"# Ex8 (지역에서 dynamic하게 전역 변수 생성)\\n\\nfor i in range(1, 10):\\n  for k in range(1, 10):\\n    globals()['plus_{}_{}'.format(i, k)] = i + k\\n\\nprint(globals())\\nprint(plus_5_5)\", '_i1': \"# Ex1\\n\\na = 10  # Global variable\\n\\ndef foo():\\n  # Read global variable\\n  print('Ex1 > ', a)\\n\\nfoo()\", 'a': 10, 'foo': <function foo at 0x7b8eca9bd900>, '_i2': \"# Ex1\\n\\na = 10  # Global variable\\n\\ndef foo():\\n  # Read global variable\\n  print('Ex1 >', a)\\n\\nfoo()\", '_i3': \"# Ex1\\n\\na = 10  # Global variable\\n\\ndef foo():\\n  # Read global variable\\n  print('Ex1 >', a)\\n\\nfoo()\\n\\n# Read global variable\\nprint('Ex1 >', a)\", '_i4': \"# Ex2\\n\\nb = 20\\n\\ndef bar():\\n  b = 30\\n  print('Ex2 >', b)\\n\\nbar()\", 'b': 20, 'bar': <function bar at 0x7b8e987e3eb0>, '_i5': \"# Ex2\\n\\nb = 20\\n\\ndef bar():\\n  b = 30  # Local variable\\n  # Read local variable\\n  print('Ex2 >', b)\\n\\nbar()\\n\\n# Read global variable\\nprint('Ex2 >', b)\", '_i6': \"# Ex3\\n\\nc = 40\\n\\ndef foobar():\\n  c = c + 10\\n  print('Ex3 >', c)\\n\\nfoobar()\", 'c': 40, 'foobar': <function foobar at 0x7b8e98618430>, '_i7': \"# Ex3\\n\\nc = 40\\n\\ndef foobar():\\n  # c = c + 10    # 전역에 있는 값을 지역에서 어떤 특정한 예약어 없이는 수정할 수 '있다'\\n  c = 10\\n  print('Ex3 >', c)\\n\\nfoobar()\", '_i8': \"# Ex4\\n\\nd = 50\\n\\ndef barfoo():\\n  global d\\n  d = 60\\n  d += 100\\n  print('Ex4 >', d)\\n\\nbarfoo()\", 'd': 160, 'barfoo': <function barfoo at 0x7b8e98619a20>, '_i9': \"# Ex4\\n\\nd = 50\\n\\ndef barfoo():\\n  global d    # 개발 시 global 선언은 자제하는 것이 좋음 (코드 유지보수의 어려움)\\n  d = 60\\n  d += 100\\n  print('Ex4 >', d)\\n\\nbarfoo()\\n\\nprint('Ex4 >', d)\", '_i10': \"# Ex5(중요)   # 클로저, 데코레이터\\n\\ndef outer():\\n  e = 70\\n  def inner():\\n    e += 10\\n    print('Ex5 >', e)\\n  return inner\\n\\nin_test = outer()   # Closure\\n\\nin_test()\", 'outer': <function outer at 0x7b8e98678040>, 'in_test': <function outer.<locals>.inner at 0x7b8e98678700>, '_i11': \"# Ex5(중요)   # Closure, Decorator\\n\\ndef outer():\\n  e = 70\\n  def inner():\\n    nonlocal e  # 없으면 UnboundLocalError  # nonlocal은 여러 오픈소스에서 많이 등장하는 예약어\\n    e += 10\\n    print('Ex5 >', e)\\n  return inner\\n\\nin_test = outer()   # Closure\\n\\nin_test()\", '_i12': \"# Ex5(중요)   # Closure, Decorator\\n\\ndef outer():\\n  e = 70\\n  def inner():\\n    nonlocal e  # 없으면 UnboundLocalError  # nonlocal은 여러 오픈소스에서 많이 등장하는 예약어   # 효율적 운영\\n    e += 10\\n    print('Ex5 >', e)\\n  return inner\\n\\nin_test = outer()   # Closure\\n\\nin_test()\\nin_test()\", '_i13': \"# Ex5(중요)   # Closure, Decorator\\n\\ndef outer():\\n  e = 70\\n  def inner():\\n    nonlocal e  # 없으면 UnboundLocalError  # nonlocal은 여러 오픈소스에서 많이 등장하는 예약어   # 효율적 운영\\n    e += 10\\n    print('Ex5 >', e)\\n  return inner\\n\\nin_test = outer()   # Closure\\n\\nin_test()\\nin_test()\\nin_test()\", '_i14': \"# Ex5(중요)   # Closure, Decorator\\n\\ndef outer():\\n  e = 70\\n  def inner():\\n    nonlocal e  # 없으면 UnboundLocalError  # nonlocal은 여러 오픈소스에서 많이 등장하는 예약어   # 효율적 운영\\n    e += 10\\n    print('Ex5 >', e)\\n  return inner\\n\\nin_test = outer()   # Closure\\n\\nin_test()\\nin_test()\\nin_test()\\nin_test()\\nin_test()\\nin_test()\", '_i15': \"# Ex6\\n\\ndef func(var):\\n  x = 10\\n  def printer():\\n    print('Ex6 > Printer Func Inner')\\n  print('Func Inner', locals())\\n\\nfunc('Hi')\", 'func': <function func at 0x7b8e98791240>, '_i16': \"# Ex7\\n\\nprint('Ex7 >', globals())\", '_i17': \"# Ex7\\n\\nprint('Ex7 >', globals())\", '_i18': \"# Ex7\\n\\nprint('Ex7 >', globals())\\ntest_variable = 100\\nprint('Ex7 >', globals()\", '_i19': \"# Ex7\\n\\nprint('Ex7 >', globals())\\ntest_variable = 100\\nprint('Ex7 >', globals())\", 'test_variable': 100, '_i20': \"# Ex8 (지역 -> 전역 변수 생성)\\n\\nfor i in range(1, 10):\\n  for k in range(1, 10):\\n    globals()['plus_{}_{}'.format(i, k)] = i + k\\n\\nprint(globals())\", 'i': 9, 'k': 9, 'plus_1_1': 2, 'plus_1_2': 3, 'plus_1_3': 4, 'plus_1_4': 5, 'plus_1_5': 6, 'plus_1_6': 7, 'plus_1_7': 8, 'plus_1_8': 9, 'plus_1_9': 10, 'plus_2_1': 3, 'plus_2_2': 4, 'plus_2_3': 5, 'plus_2_4': 6, 'plus_2_5': 7, 'plus_2_6': 8, 'plus_2_7': 9, 'plus_2_8': 10, 'plus_2_9': 11, 'plus_3_1': 4, 'plus_3_2': 5, 'plus_3_3': 6, 'plus_3_4': 7, 'plus_3_5': 8, 'plus_3_6': 9, 'plus_3_7': 10, 'plus_3_8': 11, 'plus_3_9': 12, 'plus_4_1': 5, 'plus_4_2': 6, 'plus_4_3': 7, 'plus_4_4': 8, 'plus_4_5': 9, 'plus_4_6': 10, 'plus_4_7': 11, 'plus_4_8': 12, 'plus_4_9': 13, 'plus_5_1': 6, 'plus_5_2': 7, 'plus_5_3': 8, 'plus_5_4': 9, 'plus_5_5': 10, 'plus_5_6': 11, 'plus_5_7': 12, 'plus_5_8': 13, 'plus_5_9': 14, 'plus_6_1': 7, 'plus_6_2': 8, 'plus_6_3': 9, 'plus_6_4': 10, 'plus_6_5': 11, 'plus_6_6': 12, 'plus_6_7': 13, 'plus_6_8': 14, 'plus_6_9': 15, 'plus_7_1': 8, 'plus_7_2': 9, 'plus_7_3': 10, 'plus_7_4': 11, 'plus_7_5': 12, 'plus_7_6': 13, 'plus_7_7': 14, 'plus_7_8': 15, 'plus_7_9': 16, 'plus_8_1': 9, 'plus_8_2': 10, 'plus_8_3': 11, 'plus_8_4': 12, 'plus_8_5': 13, 'plus_8_6': 14, 'plus_8_7': 15, 'plus_8_8': 16, 'plus_8_9': 17, 'plus_9_1': 10, 'plus_9_2': 11, 'plus_9_3': 12, 'plus_9_4': 13, 'plus_9_5': 14, 'plus_9_6': 15, 'plus_9_7': 16, 'plus_9_8': 17, 'plus_9_9': 18, '_i21': \"# Ex8 (지역에서 dynamic하게 전역 변수 생성)\\n\\nfor i in range(1, 10):\\n  for k in range(1, 10):\\n    globals()['plus_{}_{}'.format(i, k)] = i + k\\n\\nprint(globals())\\nprint(plus_5_5)\", '_i22': \"# Ex8 (지역에서 dynamic하게 전역 변수 생성)\\n\\nfor i in range(1, 10):\\n  for k in range(1, 10):\\n    globals()['plus_{}_{}'.format(i, k)] = i + k\\n\\nprint(globals())\\nprint('Ex8 >', plus_5_5)\", '_i23': \"# Ex8 (지역에서 dynamic하게 전역 변수 생성)\\n\\nfor i in range(1, 10):\\n  for k in range(1, 10):\\n    globals()['plus_{}_{}'.format(i, k)] = i + k\\n\\nprint(globals())\\nprint('Ex8 >', plus_5_5)\\nprint('Ex8 >', plus_9_9)\", '_i24': \"# Ex8 (지역에서 dynamic하게 전역 변수 생성)\\n\\nfor i in range(1, 10):\\n  for k in range(1, 10):\\n    globals()['plus_{}_{}'.format(i, k)] = i + k\\n\\nprint(globals())\\nprint('Ex8 >', plus_5_5)\\nprint('Ex8 >', plus_9_9)\"}\n",
            "Ex8 > 10\n",
            "Ex8 > 18\n"
          ]
        }
      ]
    }
  ]
}