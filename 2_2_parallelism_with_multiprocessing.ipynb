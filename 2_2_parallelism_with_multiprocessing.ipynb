{
  "nbformat": 4,
  "nbformat_minor": 0,
  "metadata": {
    "colab": {
      "provenance": [],
      "authorship_tag": "ABX9TyPsZz1ltu8sNo4Pu5DVkpY2",
      "include_colab_link": true
    },
    "kernelspec": {
      "name": "python3",
      "display_name": "Python 3"
    },
    "language_info": {
      "name": "python"
    }
  },
  "cells": [
    {
      "cell_type": "markdown",
      "metadata": {
        "id": "view-in-github",
        "colab_type": "text"
      },
      "source": [
        "<a href=\"https://colab.research.google.com/github/nakyeong-kim/Python_Advanced/blob/main/2_2_parallelism_with_multiprocessing.ipynb\" target=\"_parent\"><img src=\"https://colab.research.google.com/assets/colab-badge.svg\" alt=\"Open In Colab\"/></a>"
      ]
    },
    {
      "cell_type": "markdown",
      "source": [
        "# 2. Parallelism with Multiprocessing\n",
        "\n",
        "* Parallelism (병렬성)\n",
        "  1. 완전히 동일한 타이밍(시점)에 task를 실행\n",
        "  2. 다양한 파트(부분)으로 나눠서 실행\n",
        "      - ex) 코딩테스트 예시 : 1부터 1억까지의 합을 구하는데 4개로 나눠서 멀티 프로세싱을 이용해서 구하는 문제 - 1~2500만, 2500만~5000만, ... (합 나눠서 구하고 취합)\n",
        "  3. CPU가 1Core인 경우는 멀티 프로세싱을 만족하지 않음.\n",
        "  4. 딥러닝, 비트코인 채굴 등에 사용 (python에서도 python GIL 때문에 멀티 프로세싱으로 사용하기도 하지만, 싱글 스레드로도 충분히 가능) <br><br>\n",
        "\n",
        "* Process vs. Thread (중요)\n",
        "  - Process : 독립된 메모리, 많은 메모리 필요, 좀비(데드) 프로세서 생성 가능성 있음, 오버헤드 큼, 생성/소멸이 다소 느림, 코드 작성 쉬움/디버깅 어려움,\n",
        "  - Thread : 공유 메모리, 적은 메모리 사용, 좀비(데드) 스레드 생성 가능성 낮음, 오버헤드 작음, 생성/소멸 비교적 빠름, 코드 작성 어려움/디버깅 어려움\n",
        "\n",
        "\n",
        "<br><br><br>"
      ],
      "metadata": {
        "id": "TKeu0DfZJOY8"
      }
    }
  ]
}