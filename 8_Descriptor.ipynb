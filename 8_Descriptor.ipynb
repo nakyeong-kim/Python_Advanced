{
  "nbformat": 4,
  "nbformat_minor": 0,
  "metadata": {
    "colab": {
      "provenance": [],
      "authorship_tag": "ABX9TyO2UmHAFH1GxubNaXdhmx46",
      "include_colab_link": true
    },
    "kernelspec": {
      "name": "python3",
      "display_name": "Python 3"
    },
    "language_info": {
      "name": "python"
    }
  },
  "cells": [
    {
      "cell_type": "markdown",
      "metadata": {
        "id": "view-in-github",
        "colab_type": "text"
      },
      "source": [
        "<a href=\"https://colab.research.google.com/github/nakyeong-kim/python_advanced/blob/main/8_Descriptor.ipynb\" target=\"_parent\"><img src=\"https://colab.research.google.com/assets/colab-badge.svg\" alt=\"Open In Colab\"/></a>"
      ]
    },
    {
      "cell_type": "markdown",
      "source": [
        "# 8. Descriptor\n",
        "\n",
        "### descriptor, \\_\\_set__, \\_\\_get__, \\_\\_delete__, property  \n",
        "### descriptor(low level) vs. property(high level)<br><br>\n",
        "\n",
        "* Descriptor\n",
        "  1. Descriptor : \\_\\_get__, \\_\\_set__ 또는 \\_\\_delete__ 스페셜 메소드 중 한개 이상 구현 되어 있는 객체\n",
        "  2. 다른 객체의 속성으로 정의될 수 있음 → 즉, 클래스의 속성을 객체로 매핑해서, 그 객체에서 지정된 메소드로 동작을 하게 하는 것이 Descriptor\n",
        "  3. 읽기, 쓰기, 삭제 연산을 할 때 동작에 따라 각각 구현된 스페셜 메소드가 호출됨\n",
        "  4. data descriptor(\\_\\_set__, \\_\\_delete__), non-data descriptor(\\_\\_get__)\n",
        "  5. 읽기 전용 객체 생성 가능 + 클래스를 의도하는 방향으로 생성 가능\n",
        "  6. 코드 간결 + 재사용성 증가 + 상황에 맞는 메소드 구현을 통한 객체 지향 프로그래밍 구현 가능\n",
        "  7. property와 달리 reuse(재사용) 가능\n",
        "  8. ORM Framework 사용\n",
        "<br><br>\n",
        "\n",
        "* 유명한 프레임워크들은 이러한 Descriptor나 Meta Class 형식으로 코딩되어 있음\n",
        "* 전세계 개발자들이 지속적으로 개선하므로 이러한 것들을 읽을 줄 알아야 함\n",
        "* 혼자 개발할 때에도 이런 식으로 코딩하면 좀 더 짜임새 있는 코딩 가능\n",
        "\n",
        "\n",
        "<br><br><br>"
      ],
      "metadata": {
        "id": "zNrLKIEaWS7S"
      }
    },
    {
      "cell_type": "code",
      "source": [
        "# Ex1 - 기본적인 Descriptor\n",
        "\n",
        "class DescriptorEx1(object):\n",
        "  def __init__(self, name='Default'):\n",
        "    self.name = name\n",
        "\n",
        "  def __get__(self, obj, objtype):\n",
        "    return 'Get method called. → self : {}, obj : {}, objtype {}, name : {}'.format(self, obj, objtype, self.name)\n",
        "\n",
        "  def __set__(self, obj, name):\n",
        "    print('Set method called.')\n",
        "    if isinstance(name, str):\n",
        "      self.name = name\n",
        "    else:\n",
        "      raise TypeError('Name should be string.')\n",
        "\n",
        "  def __delete__(self, obj):\n",
        "    print('Delete method called.')\n",
        "    self.name = None\n",
        "\n",
        "class Sample1(object):\n",
        "  name = DescriptorEx1()\n",
        "\n",
        "\n",
        "s1 = Sample1()\n",
        "\n",
        "# 자동으로 맞는 메소드 호출하여 작동\n",
        "\n",
        "s1.name = 'Descriptor Test1'  # __set__ 호출\n",
        "# s1.name = 10  # 예외 발생\n",
        "print('Ex1 > ', s1.name)      # __get__ 호출\n",
        "del s1.name     # __delete__ 호출\n",
        "s1.name         # delete 확인"
      ],
      "metadata": {
        "colab": {
          "base_uri": "https://localhost:8080/",
          "height": 111
        },
        "id": "woW-zGytXKe2",
        "outputId": "786dd937-aeb8-44dc-a9da-d71e6866036d"
      },
      "execution_count": 1,
      "outputs": [
        {
          "output_type": "stream",
          "name": "stdout",
          "text": [
            "Set method called.\n",
            "Ex1 >  Get method called. → self : <__main__.DescriptorEx1 object at 0x7bfea63b3a60>, obj : <__main__.Sample1 object at 0x7bfea63b3bb0>, objtype <class '__main__.Sample1'>, name : Descriptor Test1\n",
            "Delete method called.\n"
          ]
        },
        {
          "output_type": "execute_result",
          "data": {
            "text/plain": [
              "\"Get method called. → self : <__main__.DescriptorEx1 object at 0x7bfea63b3a60>, obj : <__main__.Sample1 object at 0x7bfea63b3bb0>, objtype <class '__main__.Sample1'>, name : None\""
            ],
            "application/vnd.google.colaboratory.intrinsic+json": {
              "type": "string"
            }
          },
          "metadata": {},
          "execution_count": 1
        }
      ]
    },
    {
      "cell_type": "code",
      "source": [
        "# Ex2 - Property 클래스 사용하여 Descriptor 직접 구현\n",
        "# class property(fget=None, fset=None, fdel=None, doc=None)\n",
        "# descriptor를 한 클래스에서 커스터마이징해서 쓸 때에는 원하는 이름으로 쓸 수 있음\n",
        "\n",
        "class DescriptorEx2(object):\n",
        "  def __init__(self, value):\n",
        "    self._name = value\n",
        "\n",
        "  def getVal(self):\n",
        "    return 'Get method called. → self : {}, name : {}'.format(self, self._name)\n",
        "\n",
        "  def setVal(self, value):\n",
        "    print('Set method called.')\n",
        "    if isinstance(value, str):\n",
        "      self._name = value\n",
        "    else:\n",
        "      raise TypeError('Name should be string.')\n",
        "\n",
        "  def delVal(self):\n",
        "    print('Delete method called.')\n",
        "    self._name = None\n",
        "\n",
        "  name = property(getVal, setVal, delVal, 'Property 테스트를 하는 name 필드입니다. 의미는 없습니다.')\n",
        "\n",
        "\n",
        "s2 = DescriptorEx2('Descriptor Test2')    # Ex2는 Default 안했으니 초기화 넣어줘야 함\n",
        "\n",
        "\n",
        "print('Ex2 >', s2.name)   # 최초 값 확인  # getVal 호출\n",
        "s2.name = 'Descriptor Test2 Method.'      # setVal 호출\n",
        "# s2.name = 10    # 예외 발생\n",
        "del s2.name       # delVal 호출\n",
        "print('Ex2 >', s2.name)   # delete 확인\n",
        "print('Ex2 >', DescriptorEx2.name.__doc__)   # doc 호출   # 내가 만든 소스를 누군가 갖다 쓰려고 할 때 설명서 확인"
      ],
      "metadata": {
        "colab": {
          "base_uri": "https://localhost:8080/"
        },
        "id": "7YORAcoHXfSt",
        "outputId": "7f68a25c-fe47-4003-e292-75b14278d421"
      },
      "execution_count": 2,
      "outputs": [
        {
          "output_type": "stream",
          "name": "stdout",
          "text": [
            "Ex2 > Get method called. → self : <__main__.DescriptorEx2 object at 0x7bfea63b3d90>, name : Descriptor Test2\n",
            "Set method called.\n",
            "Delete method called.\n",
            "Ex2 > Get method called. → self : <__main__.DescriptorEx2 object at 0x7bfea63b3d90>, name : None\n",
            "Ex2 > Property 테스트를 하는 name 필드입니다. 의미는 없습니다.\n"
          ]
        }
      ]
    },
    {
      "cell_type": "code",
      "source": [
        "# Ex3 - Descriptor 예제 (1)\n",
        "\n",
        "import os\n",
        "\n",
        "class DirectoryFileCount:\n",
        "  def __get__(self, obj, objtype=None):\n",
        "    print(os.listdir(obj.dirname))\n",
        "    return len(os.listdir(obj.dirname))\n",
        "\n",
        "class DirectoryPath:\n",
        "  # Descriptor instance\n",
        "  size = DirectoryFileCount()\n",
        "\n",
        "  def __init__(self, dirname):\n",
        "    self.dirname = dirname\n",
        "\n",
        "# 현재 경로\n",
        "s = DirectoryPath('./')\n",
        "# 이전 경로\n",
        "g = DirectoryPath('../')\n",
        "\n",
        "print(s.size)\n",
        "print(g.size)\n",
        "\n",
        "\n",
        "# 헷갈릴 때 출력 용도\n",
        "print('Ex3 > ', dir(DirectoryPath))\n",
        "print('Ex3 > ', DirectoryPath.__dict__)\n",
        "print('Ex3 > ', dir(s))\n",
        "print('Ex3 > ', s.__dict__)"
      ],
      "metadata": {
        "colab": {
          "base_uri": "https://localhost:8080/"
        },
        "id": "wjPWDcwtXfQF",
        "outputId": "10dfc10e-2f4c-46f9-e752-1e817b4ab0e8"
      },
      "execution_count": 3,
      "outputs": [
        {
          "output_type": "stream",
          "name": "stdout",
          "text": [
            "['.config', 'sample_data']\n",
            "2\n",
            "['etc', 'opt', 'root', 'var', 'srv', 'mnt', 'home', 'media', 'sbin', 'usr', 'dev', 'tmp', 'lib', 'lib32', 'bin', 'lib64', 'proc', 'run', 'libx32', 'sys', 'boot', '.dockerenv', 'tools', 'datalab', 'content', 'python-apt', 'NGC-DL-CONTAINER-LICENSE', 'cuda-keyring_1.0-1_all.deb']\n",
            "28\n",
            "Ex3 >  ['__class__', '__delattr__', '__dict__', '__dir__', '__doc__', '__eq__', '__format__', '__ge__', '__getattribute__', '__gt__', '__hash__', '__init__', '__init_subclass__', '__le__', '__lt__', '__module__', '__ne__', '__new__', '__reduce__', '__reduce_ex__', '__repr__', '__setattr__', '__sizeof__', '__str__', '__subclasshook__', '__weakref__', 'size']\n",
            "Ex3 >  {'__module__': '__main__', 'size': <__main__.DirectoryFileCount object at 0x7bfea63faec0>, '__init__': <function DirectoryPath.__init__ at 0x7bfea63cd120>, '__dict__': <attribute '__dict__' of 'DirectoryPath' objects>, '__weakref__': <attribute '__weakref__' of 'DirectoryPath' objects>, '__doc__': None}\n",
            "Ex3 >  ['__class__', '__delattr__', '__dict__', '__dir__', '__doc__', '__eq__', '__format__', '__ge__', '__getattribute__', '__gt__', '__hash__', '__init__', '__init_subclass__', '__le__', '__lt__', '__module__', '__ne__', '__new__', '__reduce__', '__reduce_ex__', '__repr__', '__setattr__', '__sizeof__', '__str__', '__subclasshook__', '__weakref__', 'dirname', 'size']\n",
            "Ex3 >  {'dirname': './'}\n"
          ]
        }
      ]
    },
    {
      "cell_type": "code",
      "source": [
        "# Ex4 - Descriptor 예제 (2)\n",
        "\n",
        "import logging\n",
        "\n",
        "logging.basicConfig(\n",
        "    format='%(asctime)s %(message)s',\n",
        "    level=logging.INFO,\n",
        "    datefmt='%Y-%m-%d %H:%M:%S'\n",
        ")\n",
        "\n",
        "class LoggedScoreAccess:\n",
        "  def __init__(self, value=50):\n",
        "    self.value = value\n",
        "\n",
        "  def __get__(self, obj, objtype=None):\n",
        "    logging.info('Accessing %r giving %r', 'score', self.value)\n",
        "    return self.value\n",
        "\n",
        "  def __set__(self, obj, value):\n",
        "    logging.info('Updating %r to %r', 'score', self.value)\n",
        "    self.value = value\n",
        "\n",
        "class Student:\n",
        "  # Descriptor instance\n",
        "  score = LoggedScoreAccess()\n",
        "\n",
        "  def __init__(self, name):\n",
        "    # Regular instance attribute\n",
        "    self.name = name\n",
        "\n",
        "\n",
        "s1 = Student('Kim')\n",
        "s2 = Student('Lee')\n",
        "\n",
        "# 점수 확인 : s1\n",
        "print('Ex4 > ', s1.score)   # colab 환경에서 logging 안찍히는 듯함\n",
        "s1.score += 20    # s1.score = s1.score + 20  # __get__ 호출 후, __set__ 호출\n",
        "print('Ex4 > ', s1.score)\n",
        "\n",
        "# 점수 확인 : s2\n",
        "print('Ex4 > ', s2.score)\n",
        "s2.score += 30\n",
        "print('Ex4 > ', s2.score)\n",
        "\n",
        "# __dict__ 확인\n",
        "print('Ex4 > ', vars(s1))\n",
        "print('Ex4 > ', vars(s2))\n",
        "print('Ex4 > ', s1.__dict__)\n",
        "print('Ex4 > ', s2.__dict__)"
      ],
      "metadata": {
        "colab": {
          "base_uri": "https://localhost:8080/"
        },
        "id": "kF7cRUzKgB5q",
        "outputId": "d8862eec-ebcd-46b2-ca48-d97ba4f6d7ff"
      },
      "execution_count": 17,
      "outputs": [
        {
          "output_type": "stream",
          "name": "stdout",
          "text": [
            "Ex4 >  50\n",
            "Ex4 >  70\n",
            "Ex4 >  70\n",
            "Ex4 >  100\n",
            "Ex4 >  {'name': 'Kim'}\n",
            "Ex4 >  {'name': 'Lee'}\n",
            "Ex4 >  {'name': 'Kim'}\n",
            "Ex4 >  {'name': 'Lee'}\n"
          ]
        }
      ]
    }
  ]
}