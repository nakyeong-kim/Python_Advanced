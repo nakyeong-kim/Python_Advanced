{
  "nbformat": 4,
  "nbformat_minor": 0,
  "metadata": {
    "colab": {
      "provenance": [],
      "authorship_tag": "ABX9TyNWAESa2Hg8w7fW2ySPxb4m",
      "include_colab_link": true
    },
    "kernelspec": {
      "name": "python3",
      "display_name": "Python 3"
    },
    "language_info": {
      "name": "python"
    }
  },
  "cells": [
    {
      "cell_type": "markdown",
      "metadata": {
        "id": "view-in-github",
        "colab_type": "text"
      },
      "source": [
        "<a href=\"https://colab.research.google.com/github/nakyeong-kim/Python_Advanced/blob/main/9_multithreading.ipynb\" target=\"_parent\"><img src=\"https://colab.research.google.com/assets/colab-badge.svg\" alt=\"Open In Colab\"/></a>"
      ]
    },
    {
      "cell_type": "markdown",
      "source": [
        "# 9. Multithreading\n",
        "\n",
        "### Multithreading - Defference between Process and Thread<br><br>\n",
        "\n",
        "* Process\n",
        "  1. 운영체제에서 할당 받는 자원의 단위를 의미 (= 실행 중인 프로그램)\n",
        "  2. CPU 동작 시간과 주소 공간 모두 독립적\n",
        "  3. Code, Data, Stack, Heap 영역 모두 독립적\n",
        "  4. 최소 1개의 메인 Thread 보유 (ex. 크롬 창 1개가 process, 여러 탭이 thread)\n",
        "  5. 파이프, 파일, 소켓 등을 사용해서 프로세스 간 통신 가능 → Cost 높음 = Context Switching 비용이 큼\n",
        "\n",
        "* Thread\n",
        "  1. Process 내의 실행 흐름 단위\n",
        "  2. Process의 자원을 사용함\n",
        "  3. Stack만 별도 할당(독립적) | Code, Data, Heap 영역은 공유 = 메모리 공유(변수 공유)\n",
        "  4. 한 thread의 결과가 다른 thread에 영향을 끼침\n",
        "     → 동기화 문제 반드시 주의 (디버깅 어려움)\n",
        "\n",
        "* Multi Thread\n",
        "  1. 한 개의 단일 애플리케이션(응용프로그램) → 여러 thread로 구성 후 작업 처리\n",
        "  2. 시스템 자원 소모 감소 → 효율성 증가 | 처리량 증가 → Cost 감소\n",
        "  3. 통신 부담 감소 | 디버깅 어려움 | 단일 process에는 효과 미약 | 자원 공유 문제(교착 상태) | process에 영향을 줌\n",
        "\n",
        "* Multi Process\n",
        "  1. 한 개의 단일 플리케이션(응용프로그램) → 여러 process로 구성 후 작업 처리\n",
        "  2. 한 개의 프로세스 문제 발생은 확산 없음(process kill)\n",
        "  3. 캐시 체인지 | Cost 비용 매우 높은(오버헤드) | 복잡한 통신 방식 사\n",
        "\n",
        "<br><br><br>"
      ],
      "metadata": {
        "id": "zNrLKIEaWS7S"
      }
    }
  ]
}