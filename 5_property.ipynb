{
  "nbformat": 4,
  "nbformat_minor": 0,
  "metadata": {
    "colab": {
      "provenance": [],
      "authorship_tag": "ABX9TyOe88AlGUs0pCXhB927ZatR",
      "include_colab_link": true
    },
    "kernelspec": {
      "name": "python3",
      "display_name": "Python 3"
    },
    "language_info": {
      "name": "python"
    }
  },
  "cells": [
    {
      "cell_type": "markdown",
      "metadata": {
        "id": "view-in-github",
        "colab_type": "text"
      },
      "source": [
        "<a href=\"https://colab.research.google.com/github/nakyeong-kim/python_advanced/blob/main/5_property.ipynb\" target=\"_parent\"><img src=\"https://colab.research.google.com/assets/colab-badge.svg\" alt=\"Open In Colab\"/></a>"
      ]
    },
    {
      "cell_type": "markdown",
      "source": [
        "# 5. Property\n",
        "\n",
        "### underscore, access modifier(접근 지정자), Getter, Setter, @property <br><br>    \n",
        "\n",
        "\n",
        "* Underscore\n",
        "  1. 인터프리터\n",
        "  2. 값 무시\n",
        "  3. 네이밍(국제화, 자릿수) - Naming Mangling\n",
        "     - 접근 지정자\n",
        "       - name : public\n",
        "       - _name : protected\n",
        "       - __name : private → 타 클래스의 __로 시작하는 함수에 접근하지 않는 것이 원칙 (강제성은 없지만)<br><br>\n",
        "* Property 사용 장점\n",
        "  1. pythonic한 코드\n",
        "  2. 변수 제약 설정 가능\n",
        "  3. Getter, Setter 효과 동등(코드 일관성)\n",
        "     - 캡슐화-유효성 검사 기능 추가 용이\n",
        "     - 대체 표현(속성 노출, 내부의 표현 숨기기 가능)\n",
        "     - 속성의 수명 및 메모리 관리 용이\n",
        "     - 디버깅 용이\n",
        "     - Getter, Setter 작동에 대해 설계된 여러 라이브러리(오픈소스) 상호 운용성 증가\n",
        "\n",
        "<br><br><br>"
      ],
      "metadata": {
        "id": "zNrLKIEaWS7S"
      }
    },
    {
      "cell_type": "code",
      "source": [
        "# Ex1 - 값 무시\n",
        "\n",
        "# Unpacking\n",
        "x, _, y = (1, 2, 3)\n",
        "print('Ex1 > ', x, y)\n",
        "\n",
        "a, *_, b = (1, 2, 3, 4, 5)\n",
        "print('Ex1 > ', a, b)\n",
        "\n",
        "for _ in range(10):  # 값 사용 없이 반복만 할 경우\n",
        "  pass\n",
        "\n",
        "for _, val in enumerate(range(10)):\n",
        "  print(val, end=\" \")\n",
        "  pass"
      ],
      "metadata": {
        "id": "woW-zGytXKe2",
        "colab": {
          "base_uri": "https://localhost:8080/"
        },
        "outputId": "04fd8203-fcfc-4c64-9d5b-31fcf04cb1ae"
      },
      "execution_count": 11,
      "outputs": [
        {
          "output_type": "stream",
          "name": "stdout",
          "text": [
            "Ex1 >  1 3\n",
            "Ex1 >  1 5\n",
            "0 1 2 3 4 5 6 7 8 9 "
          ]
        }
      ]
    },
    {
      "cell_type": "code",
      "source": [
        "# Ex2 - 접근지정자\n",
        "# No Use Property\n",
        "\n",
        "class SampleA:\n",
        "  def __init__(self):\n",
        "    self.x = 0    # public\n",
        "    self.__y = 0  # private\n",
        "    self._z = 0   # protected\n",
        "\n",
        "a = SampleA()\n",
        "\n",
        "a.x = 1           # 이 경우도 장려되는 행동은 아님. 정해진 메소드를 통해서 접근 및 변경하는 것이 좋음.\n",
        "\n",
        "print('Ex2 > x : {}'.format(a.x))\n",
        "# print('Ex2 > y : {}'.format(a.__y))   # 에러 발생   # private 변수는 이름을 알아서 바꿈 _SampleA__y로    # _SampleA_y로 접근하면 사용은 가능함 = 강제성은 없음    # 하지만 변경하지 마라!\n",
        "print('Ex2 > z : {}'.format(a._z))\n",
        "print('Ex2 > ', dir(a))"
      ],
      "metadata": {
        "id": "7YORAcoHXfSt",
        "colab": {
          "base_uri": "https://localhost:8080/"
        },
        "outputId": "8f8a84cd-ac7a-473d-f074-4aa6cb9e677b"
      },
      "execution_count": 16,
      "outputs": [
        {
          "output_type": "stream",
          "name": "stdout",
          "text": [
            "Ex2 > x : 1\n",
            "Ex2 > z : 0\n",
            "Ex2 >  ['_SampleA__y', '__class__', '__delattr__', '__dict__', '__dir__', '__doc__', '__eq__', '__format__', '__ge__', '__getattribute__', '__gt__', '__hash__', '__init__', '__init_subclass__', '__le__', '__lt__', '__module__', '__ne__', '__new__', '__reduce__', '__reduce_ex__', '__repr__', '__setattr__', '__sizeof__', '__str__', '__subclasshook__', '__weakref__', '_z', 'x']\n"
          ]
        }
      ]
    },
    {
      "cell_type": "code",
      "source": [
        "# Ex3 - 메소드 활용 : Getter, Setter\n",
        "\n",
        "class SampleB:\n",
        "  def __init__(self):\n",
        "    self.x = 0\n",
        "    self.__y = 0\n",
        "\n",
        "  def get_y(self):\n",
        "    return self.__y\n",
        "\n",
        "  def set_y(self, value):\n",
        "    self.__y = value\n",
        "\n",
        "b = SampleB()\n",
        "\n",
        "b.x = 1\n",
        "b.set_y(2000)\n",
        "\n",
        "print('Ex3 > x : {}'.format(b.x))\n",
        "print('Ex3 > y : {}'.format(b.get_y()))\n",
        "\n",
        "print('Ex3 > ', dir(b))"
      ],
      "metadata": {
        "colab": {
          "base_uri": "https://localhost:8080/"
        },
        "id": "wjPWDcwtXfQF",
        "outputId": "136b2ef5-6689-4911-8d3a-c12a0e5e7dd2"
      },
      "execution_count": 24,
      "outputs": [
        {
          "output_type": "stream",
          "name": "stdout",
          "text": [
            "Ex3 > x : 1\n",
            "Ex3 > y : 2000\n",
            "Ex3 >  ['_SampleB__y', '__class__', '__delattr__', '__dict__', '__dir__', '__doc__', '__eq__', '__format__', '__ge__', '__getattribute__', '__gt__', '__hash__', '__init__', '__init_subclass__', '__le__', '__lt__', '__module__', '__ne__', '__new__', '__reduce__', '__reduce_ex__', '__repr__', '__setattr__', '__sizeof__', '__str__', '__subclasshook__', '__weakref__', 'get_y', 'set_y', 'x']\n"
          ]
        }
      ]
    },
    {
      "cell_type": "code",
      "source": [
        "# Ex4 - property 활용 : Getter, Setter\n",
        "\n",
        "class SampleA:\n",
        "  def __init__(self):\n",
        "    self.x = 0    # public\n",
        "    self.__y = 0  # private\n",
        "\n",
        "  # Getter\n",
        "  @property\n",
        "  def y(self):\n",
        "    print('Called get method.')\n",
        "    return self.__y\n",
        "\n",
        "  # Setter\n",
        "  @y.setter\n",
        "  def y(self, value):\n",
        "    print('Called set method.')\n",
        "    self.__y = value\n",
        "\n",
        "  # Deleter\n",
        "  @y.deleter\n",
        "  def y(self):\n",
        "    print('Called del method.')\n",
        "    del self.__y\n",
        "\n",
        "a = SampleA()\n",
        "\n",
        "a.x = 1\n",
        "a.y = 2   # Called set method.\n",
        "\n",
        "print('Ex4 > x: {}'.format(a.x))\n",
        "print('Ex4 > y: {}'.format(a.y))  # Called get method.\n",
        "\n",
        "del a.y\n",
        "print('Ex4 > ', dir(a))   #_SampleA__y 사라짐"
      ],
      "metadata": {
        "colab": {
          "base_uri": "https://localhost:8080/"
        },
        "id": "MNS-6bdtViWH",
        "outputId": "0741d6db-9cb2-402d-eb7f-654a19208421"
      },
      "execution_count": 30,
      "outputs": [
        {
          "output_type": "stream",
          "name": "stdout",
          "text": [
            "Called set method.\n",
            "Ex4 > x: 1\n",
            "Called get method.\n",
            "Ex4 > y: 2\n",
            "Called del method.\n",
            "Ex4 >  ['__class__', '__delattr__', '__dict__', '__dir__', '__doc__', '__eq__', '__format__', '__ge__', '__getattribute__', '__gt__', '__hash__', '__init__', '__init_subclass__', '__le__', '__lt__', '__module__', '__ne__', '__new__', '__reduce__', '__reduce_ex__', '__repr__', '__setattr__', '__sizeof__', '__str__', '__subclasshook__', '__weakref__', 'x', 'y']\n"
          ]
        }
      ]
    },
    {
      "cell_type": "code",
      "source": [
        "# Ex5 - property 활용 제약 조건 추가\n",
        "\n",
        "class SampleB:\n",
        "  def __init__(self):\n",
        "    self.x = 0    # public\n",
        "    self.__y = 0  # private\n",
        "\n",
        "  # Getter\n",
        "  @property\n",
        "  def y(self):\n",
        "    return self.__y\n",
        "\n",
        "  # Setter\n",
        "  @y.setter\n",
        "  def y(self, value):\n",
        "    if value < 0:\n",
        "      raise ValueError('0보다 큰 값을 입력하세요.')\n",
        "    self.__y = value\n",
        "\n",
        "  # Deleter\n",
        "  @y.deleter\n",
        "  def y(self):\n",
        "    del self.__y\n",
        "\n",
        "b = SampleB()\n",
        "\n",
        "b.x = 1\n",
        "b.y = 10\n",
        "\n",
        "# b.y = -5    # 예외 발생\n",
        "\n",
        "print('Ex5 > x: {}'.format(b.x))\n",
        "print('Ex5 > y: {}'.format(b.y))"
      ],
      "metadata": {
        "id": "EMK0-Q5EViUs",
        "colab": {
          "base_uri": "https://localhost:8080/"
        },
        "outputId": "8374b9d7-82e7-4aca-d7cb-5902d427e751"
      },
      "execution_count": 35,
      "outputs": [
        {
          "output_type": "stream",
          "name": "stdout",
          "text": [
            "Ex5 > x: 1\n",
            "Ex5 > y: 10\n"
          ]
        }
      ]
    }
  ]
}