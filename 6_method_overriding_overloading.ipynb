{
  "nbformat": 4,
  "nbformat_minor": 0,
  "metadata": {
    "colab": {
      "provenance": [],
      "authorship_tag": "ABX9TyOsCDiCAMK1SyQZWnOjdGo0",
      "include_colab_link": true
    },
    "kernelspec": {
      "name": "python3",
      "display_name": "Python 3"
    },
    "language_info": {
      "name": "python"
    }
  },
  "cells": [
    {
      "cell_type": "markdown",
      "metadata": {
        "id": "view-in-github",
        "colab_type": "text"
      },
      "source": [
        "<a href=\"https://colab.research.google.com/github/nakyeong-kim/python_advanced/blob/main/6_method_overriding_overloading.ipynb\" target=\"_parent\"><img src=\"https://colab.research.google.com/assets/colab-badge.svg\" alt=\"Open In Colab\"/></a>"
      ]
    },
    {
      "cell_type": "markdown",
      "source": [
        "## 6. Method Overriding , Overloading<br><br>\n",
        "\n",
        "### Overriding, OOP, 다형성\n",
        "\n",
        "\n",
        "* Method Overriding 효과\n",
        "  1. 서브(자식)클래스에서 슈퍼(부모)클래스 호출 후 사용\n",
        "  2. 동일 메소드 재정의 후 사용 가능\n",
        "  3. 부모클래스의 메소드를 추상화 후 사용 가능 (구조적 접근)\n",
        "  4. 확장 가능, 다형성(다양한 방식으로 동작)\n",
        "  5. 가독성 증가 + 오류 가능성 감소 + 메소드 이름 절약 + 유지보수성 증가 등<br><br>\n",
        "\n",
        "* super 함수 : 부모클래스의 임시적인 객체를 반환하여 부모클래스의 메소드를 사용할 수 있게 하는 것<br><br>\n",
        "\n",
        "### Overloading, OOP, Multiple Dispatch\n",
        "\n",
        "* Method Overloading 효과\n",
        "  1. 메소드 파라미터 기반 호출 방식 << Overriding과의 차이점\n",
        "  2. 동일 메소드 재정의 후 사용 가능\n",
        "  3. 가독성 증가 + 오류 가능성 감소 + 메소드 이름 절약 + 유지보수성 증가 등<br><br>\n",
        "\n",
        "* 파이썬은 클래스 내에서 Method Overloading 지원 X<br>\n",
        "  → pip install multipledispatch 후, <br>\n",
        "  → from multipledispatch import dispatch하여 사용<br><br>\n",
        "\n",
        "### 기술 면접 질문 多\n",
        "* 동적 타입 언어 : 컴파일이 아닌 런타임 때 타입이 결정되는 언어\n",
        "  - 타입 없이 변수만 선언해서 값을 지정할 수 있음\n",
        "  - 타 에러가 실행 시에 발견\n",
        "  - python, javascript, ruby, php 등\n",
        "* 정적 타입 언어 : 컴파일 시 변수의 타입이 결정되는 언어\n",
        "  - 변수에 들어갈 값의 형태에 따라 직접 변수의 타입을 명시해줘야 함\n",
        "  - 타입 에러가 컴파일 시에 발견\n",
        "  - java, C, C++, C#, Scala, Pascal 등\n",
        "\n",
        "<br><br><br>"
      ],
      "metadata": {
        "id": "zNrLKIEaWS7S"
      }
    },
    {
      "cell_type": "code",
      "source": [
        "# Ex1 - 기본 Overriding\n",
        "\n",
        "class ParentEx1():\n",
        "  def __init__(self):\n",
        "    self.value = 5\n",
        "\n",
        "  def get_value(self):\n",
        "    return self.value\n",
        "\n",
        "class ChildEx1(ParentEx1):\n",
        "  pass\n",
        "\n",
        "c1 = ChildEx1()\n",
        "p1 = ParentEx1()\n",
        "\n",
        "# 부모클래스 메소드 호출\n",
        "print('Ex1 > ', c1.get_value())\n",
        "\n",
        "# c1 모든 속성 출력\n",
        "print('Ex1 > ', dir(c1))    # get_value와 value를 가지고 있음\n",
        "\n",
        "# 부모 & 자식의 모든 속성 출력\n",
        "print('Ex1 > ', dir(ParentEx1))       # get_value 있음\n",
        "print('Ex1 > ', dir(ChildEx1))        # get_value 있음\n",
        "print('Ex1 > ', ParentEx1.__dict__)\n",
        "print('Ex1 > ', ChildEx1.__dict__)    # 없음 → 즉, 인스턴스화가 되는 시점에 자식에 담김\n",
        "\n",
        "# ※ dir와 __dict__의 차이\n",
        "# dir : 객체의 모든것(슈퍼클래스 등)을 모두 나열\n",
        "# __dict__ : 인스턴스의 속성 중 로컬 속성에 해당하는 프로퍼티만 나열"
      ],
      "metadata": {
        "id": "woW-zGytXKe2",
        "colab": {
          "base_uri": "https://localhost:8080/"
        },
        "outputId": "d10ef5c9-f065-4ac6-c65e-e079e4bd5667"
      },
      "execution_count": 21,
      "outputs": [
        {
          "output_type": "stream",
          "name": "stdout",
          "text": [
            "Ex1 >  5\n",
            "Ex1 >  ['__class__', '__delattr__', '__dict__', '__dir__', '__doc__', '__eq__', '__format__', '__ge__', '__getattribute__', '__gt__', '__hash__', '__init__', '__init_subclass__', '__le__', '__lt__', '__module__', '__ne__', '__new__', '__reduce__', '__reduce_ex__', '__repr__', '__setattr__', '__sizeof__', '__str__', '__subclasshook__', '__weakref__', 'get_value', 'value']\n",
            "Ex1 >  ['__class__', '__delattr__', '__dict__', '__dir__', '__doc__', '__eq__', '__format__', '__ge__', '__getattribute__', '__gt__', '__hash__', '__init__', '__init_subclass__', '__le__', '__lt__', '__module__', '__ne__', '__new__', '__reduce__', '__reduce_ex__', '__repr__', '__setattr__', '__sizeof__', '__str__', '__subclasshook__', '__weakref__', 'get_value']\n",
            "Ex1 >  ['__class__', '__delattr__', '__dict__', '__dir__', '__doc__', '__eq__', '__format__', '__ge__', '__getattribute__', '__gt__', '__hash__', '__init__', '__init_subclass__', '__le__', '__lt__', '__module__', '__ne__', '__new__', '__reduce__', '__reduce_ex__', '__repr__', '__setattr__', '__sizeof__', '__str__', '__subclasshook__', '__weakref__', 'get_value']\n",
            "Ex1 >  {'__module__': '__main__', '__init__': <function ParentEx1.__init__ at 0x7c29f9f82d40>, 'get_value': <function ParentEx1.get_value at 0x7c29f9f82c20>, '__dict__': <attribute '__dict__' of 'ParentEx1' objects>, '__weakref__': <attribute '__weakref__' of 'ParentEx1' objects>, '__doc__': None}\n",
            "Ex1 >  {'__module__': '__main__', '__doc__': None}\n"
          ]
        }
      ]
    },
    {
      "cell_type": "code",
      "source": [
        "# Ex2 - Overriding 동일 메소드 재정의\n",
        "\n",
        "class ParentEx2():\n",
        "  def __init__(self):\n",
        "    self.value = 5\n",
        "\n",
        "  def get_value(self):\n",
        "    return self.value\n",
        "\n",
        "class ChildEx2(ParentEx2):\n",
        "  def get_value(self):        # 재정의\n",
        "    return self.value * 10\n",
        "\n",
        "c2 = ChildEx2()\n",
        "\n",
        "# 자식 메소드 재정의 후 호출\n",
        "print('Ex2 > ', c2.get_value())"
      ],
      "metadata": {
        "id": "7YORAcoHXfSt",
        "colab": {
          "base_uri": "https://localhost:8080/"
        },
        "outputId": "4cd23ddc-3d8f-412d-8621-905e4014934b"
      },
      "execution_count": 22,
      "outputs": [
        {
          "output_type": "stream",
          "name": "stdout",
          "text": [
            "Ex2 >  50\n"
          ]
        }
      ]
    },
    {
      "cell_type": "code",
      "source": [
        "# Ex3 - Overriding 다형성\n",
        "\n",
        "import datetime\n",
        "\n",
        "class Logger(object):\n",
        "  def log(self, msg):\n",
        "    print(msg)\n",
        "\n",
        "class TimestampLogger(Logger):\n",
        "  def log(self,msg):\n",
        "    message = \"{ts} {msg}\".format(ts=datetime.datetime.now(), msg=msg)\n",
        "    # 부모 메소드 호출 (print문이 부모에게 있으므로)\n",
        "    # super 함수 : 부모클래스의 임시적인 객체를 반환하여 부모클래스의 메소드를 사용할 수 있게 하는 것\n",
        "    super(TimestampLogger, self).log(message)   # 규칙 : super(자식클래스 자체, 자식의 인스턴스)\n",
        "    # super().log(message)    # 위와 동일한 실행\n",
        "\n",
        "\n",
        "class DateLogger(Logger):\n",
        "  def log(self,msg):\n",
        "    message = \"{ts} {msg}\".format(ts=datetime.datetime.now().strftime('%Y-%m-%d'), msg=msg)\n",
        "    super(DateLogger, self).log(message)\n",
        "\n",
        "l = Logger()\n",
        "t = TimestampLogger()\n",
        "d = DateLogger()\n",
        "\n",
        "l.log('Called logger.')\n",
        "t.log('Called timestamp logger.')\n",
        "d.log('Called date logger.')"
      ],
      "metadata": {
        "colab": {
          "base_uri": "https://localhost:8080/"
        },
        "id": "wjPWDcwtXfQF",
        "outputId": "ecc85baf-95b1-47ec-e6f2-f0e4d7b47742"
      },
      "execution_count": 23,
      "outputs": [
        {
          "output_type": "stream",
          "name": "stdout",
          "text": [
            "Called logger.\n",
            "2023-10-09 07:33:54.116840 Called timestamp logger.\n",
            "2023-10-09 Called date logger.\n"
          ]
        }
      ]
    },
    {
      "cell_type": "code",
      "source": [
        "# Ex4 - Overloading 동일 메소드 사용\n",
        "# 파이썬은 동적 타입 언어 → 컴파일이 아닌 런타임 때 타입이 결정되는 언어 (타입 에러가 실행 시에 발견)   # 기술 면접 질문 多\n",
        "\n",
        "class SampleA():\n",
        "  def add(self, x, y):\n",
        "    return x + y\n",
        "\n",
        "  def add(self, x, y, z):\n",
        "    return x + y + z\n",
        "\n",
        "  # ※패킹으로 해결 가능\n",
        "  # def add(self, *args):\n",
        "  #   return sum(args)\n",
        "\n",
        "a = SampleA()\n",
        "\n",
        "# print('Ex4 > ', a.add(2, 3))    # 에러 발생   # 파이썬은 클래스 내에서 Method Overloading 지원 X → multipledispath 사용\n",
        "print('Ex4 > ', dir(a))   # add 메소드 1개 있음"
      ],
      "metadata": {
        "colab": {
          "base_uri": "https://localhost:8080/"
        },
        "id": "cEC77UJPVeJZ",
        "outputId": "a31e57c1-38c3-40f6-a0a4-d1b4576e440b"
      },
      "execution_count": 32,
      "outputs": [
        {
          "output_type": "stream",
          "name": "stdout",
          "text": [
            "Ex4 >  ['__class__', '__delattr__', '__dict__', '__dir__', '__doc__', '__eq__', '__format__', '__ge__', '__getattribute__', '__gt__', '__hash__', '__init__', '__init_subclass__', '__le__', '__lt__', '__module__', '__ne__', '__new__', '__reduce__', '__reduce_ex__', '__repr__', '__setattr__', '__sizeof__', '__str__', '__subclasshook__', '__weakref__', 'add']\n"
          ]
        }
      ]
    },
    {
      "cell_type": "code",
      "source": [
        "# Ex5 - Overloading 동일 메소드 사용\n",
        "# 자료형에 따른 분기 처리\n",
        "\n",
        "class SampleB():\n",
        "  def add(self, datatype, *args):\n",
        "    if datatype == 'int':\n",
        "      return sum(args)\n",
        "\n",
        "    if datatype == 'str':\n",
        "      return ' '.join([x for x in args])\n",
        "\n",
        "b = SampleB()\n",
        "\n",
        "# 숫자 연산\n",
        "print('Ex5 > ', b.add('int', 5, 6))\n",
        "\n",
        "# 문자열 연산\n",
        "print('Ex5 > ', b.add('str', 'Hi', 'Python'))"
      ],
      "metadata": {
        "colab": {
          "base_uri": "https://localhost:8080/"
        },
        "id": "f439w6DPVeFP",
        "outputId": "3a596221-afa3-4f54-ecb2-347eb166aa86"
      },
      "execution_count": 33,
      "outputs": [
        {
          "output_type": "stream",
          "name": "stdout",
          "text": [
            "Ex5 >  11\n",
            "Ex5 >  Hi Python\n"
          ]
        }
      ]
    },
    {
      "cell_type": "code",
      "source": [
        "# Ex6 - multipledispatch를 통한 method overloading\n",
        "\n",
        "!pip install multipledispatch\n",
        "from multipledispatch import dispatch\n",
        "\n",
        "class SampleC():\n",
        "  @dispatch(int, int)\n",
        "  def product(x, y):\n",
        "    return x * y\n",
        "\n",
        "  @dispatch(int, int, int)\n",
        "  def product(x, y, z):\n",
        "    return x * y * z\n",
        "\n",
        "  @dispatch(float, float, float)\n",
        "  def product(x, y, z):\n",
        "    return x * y * z\n",
        "\n",
        "c = SampleC()\n",
        "\n",
        "# 정수 파라미터 2개\n",
        "print('Ex6 > ', c.product(5, 6))\n",
        "# 정수 파라미터 3개\n",
        "print('Ex6 > ', c.product(5, 6, 7))\n",
        "# 실수 파라미터 3개\n",
        "print('Ex6 > ', c.product(5.0, 6.0, 7.0))"
      ],
      "metadata": {
        "colab": {
          "base_uri": "https://localhost:8080/"
        },
        "id": "7X-9CafrVd30",
        "outputId": "410485d4-94b9-41cf-969d-63536895e412"
      },
      "execution_count": 36,
      "outputs": [
        {
          "output_type": "stream",
          "name": "stdout",
          "text": [
            "Requirement already satisfied: multipledispatch in /usr/local/lib/python3.10/dist-packages (1.0.0)\n",
            "Ex6 >  30\n",
            "Ex6 >  210\n",
            "Ex6 >  210.0\n"
          ]
        }
      ]
    }
  ]
}