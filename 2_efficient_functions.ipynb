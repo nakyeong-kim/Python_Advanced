{
  "nbformat": 4,
  "nbformat_minor": 0,
  "metadata": {
    "colab": {
      "provenance": [],
      "authorship_tag": "ABX9TyMkfZI1W6mfvf6IPd+qU9sW",
      "include_colab_link": true
    },
    "kernelspec": {
      "name": "python3",
      "display_name": "Python 3"
    },
    "language_info": {
      "name": "python"
    }
  },
  "cells": [
    {
      "cell_type": "markdown",
      "metadata": {
        "id": "view-in-github",
        "colab_type": "text"
      },
      "source": [
        "<a href=\"https://colab.research.google.com/github/nakyeong-kim/python_advanced/blob/main/2_efficient_functions.ipynb\" target=\"_parent\"><img src=\"https://colab.research.google.com/assets/colab-badge.svg\" alt=\"Open In Colab\"/></a>"
      ]
    },
    {
      "cell_type": "markdown",
      "source": [
        "# 2. Efficient Functions\n",
        "\n",
        "### Lambda, Map, Filter, Reduce Functions\n",
        "##### 생각만 조금 바꾸면 개발에 매우 용이한 함수들\n",
        "<br>\n",
        "\n",
        "* lambda 함수\n",
        "  - 익명\n",
        "  - 힙 영역에서 **사용 즉시 소멸**\n",
        "  - pythonic한 코드 가능\n",
        "  - python garbage collection (Count=0) - 불필요한 변수, 참조들을 알아서 정리\n",
        "\n",
        "* Map, Filter, Reduce 함수\n",
        "  - 시퀀스형 전처리에 주로 사용\n",
        "  - 이터러블한 객체를 리턴하므로 메모리 낭비 방지 가능 - 데이터를 한번에 메모리에 올리지 않고 콜을 할 때 불러오므로\n",
        "\n",
        "* 일반 함수\n",
        "  - **재사용성**을 위해 메모리에 저장\n",
        "<br><br><br>"
      ],
      "metadata": {
        "id": "zNrLKIEaWS7S"
      }
    },
    {
      "cell_type": "code",
      "source": [
        "# Ex1 - lambda\n",
        "\n",
        "cul = lambda a, b, c: a * b + c\n",
        "\n",
        "print('Ex1 >', cul(10, 15, 20))"
      ],
      "metadata": {
        "colab": {
          "base_uri": "https://localhost:8080/"
        },
        "id": "woW-zGytXKe2",
        "outputId": "6bc7ce70-d328-4707-97df-95a549ccb422"
      },
      "execution_count": 1,
      "outputs": [
        {
          "output_type": "stream",
          "name": "stdout",
          "text": [
            "Ex1 > 170\n"
          ]
        }
      ]
    },
    {
      "cell_type": "code",
      "source": [
        "# Ex2 - map : for문 대신 사용, lambda와 같이 사용 좋음\n",
        "\n",
        "digits1 = [x * 10 for x in range(1, 11)]  # 10개 원소를 가진 리스트 생성\n",
        "print('Ex2 >', digits1)\n",
        "\n",
        "def ex2_func(x):  # 일반 함수는 재사용성을 위해 메모리에 저장되므로 lambda 함수 사용하는 것이 좋음\n",
        "  return x ** 2\n",
        "\n",
        "result = list(map(lambda i: i ** 2, digits1))   # 리스트를 순회하며 특정 함수를 통해서 결과값 도출 시 map 함수 사용 추천\n",
        "print('Ex2 >', result)\n",
        "\n",
        "\n",
        "# 아래처럼 패키지화해서도 사용 가능\n",
        "# 기능 별로 모듈화할 때 숨기는 것이 좋을 때 + 호출 많이 한다면\n",
        "def also_square(nums):\n",
        "  def double(x):\n",
        "    return x ** 2\n",
        "  return list(map(double, nums))\n",
        "\n",
        "print('Ex2 >', also_square(digits1))"
      ],
      "metadata": {
        "colab": {
          "base_uri": "https://localhost:8080/"
        },
        "id": "7YORAcoHXfSt",
        "outputId": "c1f7a6ea-f027-4c0c-f8d4-e56fc51ff903"
      },
      "execution_count": 10,
      "outputs": [
        {
          "output_type": "stream",
          "name": "stdout",
          "text": [
            "Ex2 > [10, 20, 30, 40, 50, 60, 70, 80, 90, 100]\n",
            "Ex2 > [100, 400, 900, 1600, 2500, 3600, 4900, 6400, 8100, 10000]\n",
            "Ex2 > [100, 400, 900, 1600, 2500, 3600, 4900, 6400, 8100, 10000]\n"
          ]
        }
      ]
    },
    {
      "cell_type": "code",
      "source": [
        "# Ex3 - filter : for-if문 대신 사용, lambda와 같이 사용 좋음\n",
        "\n",
        "digits = list(range(1, 11))\n",
        "\n",
        "result = list(filter(lambda x: x % 2 == 0, digits))\n",
        "print('Ex3 >', result)\n",
        "\n",
        "# 모듈화\n",
        "def also_evens(nums):\n",
        "  def is_even(x):\n",
        "    return x % 2 == 0   # if not x % 2 : return x 와 같음   <<<<<<<<<<<\n",
        "  return list(filter((is_even), nums))\n",
        "\n",
        "print('Ex3 >', also_evens(digits))"
      ],
      "metadata": {
        "colab": {
          "base_uri": "https://localhost:8080/"
        },
        "id": "wjPWDcwtXfQF",
        "outputId": "dfc4f1af-78ad-406b-cec9-1a2be21d2a84"
      },
      "execution_count": 17,
      "outputs": [
        {
          "output_type": "stream",
          "name": "stdout",
          "text": [
            "Ex3 > [2, 4, 6, 8, 10]\n",
            "Ex3 > [2, 4, 6, 8, 10]\n"
          ]
        }
      ]
    },
    {
      "cell_type": "code",
      "source": [
        "# Ex4 - reduce : for-sum문 대신 사용, lambda와 같이 사용 좋음\n",
        "#                누적 계산값 추출에 용이 (결과값을 리스트형이 아닌 최종 결과값(누적 계산값)을 반환)\n",
        "\n",
        "from functools import reduce\n",
        "\n",
        "digits2 = [x for x in range(1, 101)]\n",
        "\n",
        "result = reduce(lambda x, y: x + y, digits2)\n",
        "print('Ex4 >', result)\n",
        "\n",
        "result = reduce(lambda x, y: x + y, ['abc@gmail.com', ';', 'sss@naver.com'])\n",
        "print('Ex4 >', result)\n",
        "\n",
        "# 모듈화\n",
        "def also_add(nums):\n",
        "  def add_plus(x, y):\n",
        "    return x + y\n",
        "  return reduce(add_plus, nums)\n",
        "\n",
        "print('Ex4 >', also_add(digits2))"
      ],
      "metadata": {
        "colab": {
          "base_uri": "https://localhost:8080/"
        },
        "id": "ahWiIt3RXfJF",
        "outputId": "e2edac4f-5811-4d5f-a7c5-f8cd725051e5"
      },
      "execution_count": 22,
      "outputs": [
        {
          "output_type": "stream",
          "name": "stdout",
          "text": [
            "Ex4 > 5050\n",
            "Ex4 > abc@gmail.com;sss@naver.com\n",
            "Ex4 > 5050\n"
          ]
        }
      ]
    }
  ]
}