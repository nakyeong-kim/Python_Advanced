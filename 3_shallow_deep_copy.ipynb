{
  "nbformat": 4,
  "nbformat_minor": 0,
  "metadata": {
    "colab": {
      "provenance": [],
      "authorship_tag": "ABX9TyOJ/1Xg2VIMDPzVneXB1mwu",
      "include_colab_link": true
    },
    "kernelspec": {
      "name": "python3",
      "display_name": "Python 3"
    },
    "language_info": {
      "name": "python"
    }
  },
  "cells": [
    {
      "cell_type": "markdown",
      "metadata": {
        "id": "view-in-github",
        "colab_type": "text"
      },
      "source": [
        "<a href=\"https://colab.research.google.com/github/nakyeong-kim/python_advanced/blob/main/3_shallow_deep_copy.ipynb\" target=\"_parent\"><img src=\"https://colab.research.google.com/assets/colab-badge.svg\" alt=\"Open In Colab\"/></a>"
      ]
    },
    {
      "cell_type": "markdown",
      "source": [
        "# 3. Shallow Copy & Deep Copy\n",
        "\n",
        "### shallow copy, deep copy <br><br>    \n",
        "\n",
        "\n",
        "* 객체의 복사 종류 : copy, shallow copy, deep copy\n",
        "  - shallow copy = 얕은 복사 = call by reference\n",
        "  - deep copy = 깊은 복사 = call by value\n",
        "  - 객체가 클수록 deep copy는 메모리도 많이 잡아먹고 느림\n",
        "  - 어떤 것이 좋다 X → 구현하고자 하는 형태에 맞춰서 어떤 복사가 필요한지 판단하여 구현 (개발 시 정확한 이해 후 사용하는 것이 중요) <br><br>\n",
        "* 가변형(mutable) 객체 : list, set, dict (한번 선언 후 값 변경 가능)\n",
        "* 불변형(immutable) 객체 : int, float, str, bool, unicode ... (한 번 선언 후 값 변경 불가) <br><br><br>"
      ],
      "metadata": {
        "id": "zNrLKIEaWS7S"
      }
    },
    {
      "cell_type": "code",
      "source": [
        "# Ex1 - Copy\n",
        "# Call by value, Call by Reference, Call by Share\n",
        "\n",
        "a_list = [1, 2, 3, [4, 5, 6], [7, 8, 9]]  # mutable\n",
        "b_list = a_list   # Call by Reference\n",
        "\n",
        "\n",
        "# 같은 id 값 참조\n",
        "print('Ex1 >', id(a_list))\n",
        "print('Ex1 >', id(b_list))\n",
        "\n",
        "b_list[2] = 100\n",
        "print('Ex1 >', a_list)\n",
        "print('Ex1 >', b_list)\n",
        "\n",
        "b_list[3][2] = 100\n",
        "print('Ex1 >', a_list)\n",
        "print('Ex1 >', b_list)\n",
        "\n",
        "\n",
        "\n",
        "## 참고\n",
        "\n",
        "a = 1   # immutable\n",
        "b = a\n",
        "\n",
        "# 같은 id 값 참조\n",
        "print('Ex1 >', id(a))\n",
        "print('Ex1 >', id(b))\n",
        "\n",
        "b = 100\n",
        "print('Ex1 >', a)\n",
        "print('Ex1 >', b)"
      ],
      "metadata": {
        "colab": {
          "base_uri": "https://localhost:8080/"
        },
        "id": "woW-zGytXKe2",
        "outputId": "966aef51-9631-4f24-c47b-6b227ebdbeaf"
      },
      "execution_count": 26,
      "outputs": [
        {
          "output_type": "stream",
          "name": "stdout",
          "text": [
            "Ex1 > 135141321632832\n",
            "Ex1 > 135141321632832\n",
            "Ex1 > [1, 2, 100, [4, 5, 6], [7, 8, 9]]\n",
            "Ex1 > [1, 2, 100, [4, 5, 6], [7, 8, 9]]\n",
            "Ex1 > [1, 2, 100, [4, 5, 100], [7, 8, 9]]\n",
            "Ex1 > [1, 2, 100, [4, 5, 100], [7, 8, 9]]\n",
            "Ex1 > 135142593544432\n",
            "Ex1 > 135142593544432\n",
            "Ex1 > 1\n",
            "Ex1 > 100\n"
          ]
        }
      ]
    },
    {
      "cell_type": "code",
      "source": [
        "# Ex2 - Shallow Copy : 얕은 복사\n",
        "\n",
        "import copy\n",
        "\n",
        "c_list = [1, 2, 3, [4, 5, 6], [7, 8, 9]]  # mutable\n",
        "d_list = copy.copy(c_list)    # Call by Value & Call by Reference\n",
        "\n",
        "\n",
        "# 다른 id 값 참조 (Call by Value)\n",
        "print('Ex2 >', id(c_list))\n",
        "print('Ex2 >', id(d_list))\n",
        "\n",
        "d_list[1] = 100             # Call by Value\n",
        "print('Ex2 >', c_list)\n",
        "print('Ex2 >', d_list)\n",
        "\n",
        "d_list[3].append(1000)      # Call by Reference\n",
        "d_list[4][1] = 10000        # Call by Reference\n",
        "print('Ex2 >', c_list)\n",
        "print('Ex2 >', d_list)"
      ],
      "metadata": {
        "colab": {
          "base_uri": "https://localhost:8080/"
        },
        "id": "7YORAcoHXfSt",
        "outputId": "abd2a1c8-07eb-4afb-8ada-eff8c1fb8017"
      },
      "execution_count": 16,
      "outputs": [
        {
          "output_type": "stream",
          "name": "stdout",
          "text": [
            "Ex2 > 135141322798592\n",
            "Ex2 > 135141322785280\n",
            "Ex2 > [1, 2, 3, [4, 5, 6], [7, 8, 9]]\n",
            "Ex2 > [1, 100, 3, [4, 5, 6], [7, 8, 9]]\n",
            "Ex2 > [1, 2, 3, [4, 5, 6, 1000], [7, 10000, 9]]\n",
            "Ex2 > [1, 100, 3, [4, 5, 6, 1000], [7, 10000, 9]]\n"
          ]
        }
      ]
    },
    {
      "cell_type": "code",
      "source": [
        "# Ex3 - Deep Copy : 깊은 복사\n",
        "\n",
        "import copy\n",
        "\n",
        "e_list = [1, 2, 3, [4, 5, 6], [7, 8, 9]]  # mutable\n",
        "f_list = copy.deepcopy(e_list)  # Call by Value\n",
        "\n",
        "# 다른 id 값 참조\n",
        "print('Ex3 >', id(e_list))\n",
        "print('Ex3 >', id(f_list))\n",
        "\n",
        "e_list[1] = 100\n",
        "print('Ex2 >', e_list)\n",
        "print('Ex2 >', f_list)\n",
        "\n",
        "e_list[3].append(1000)\n",
        "e_list[4][1] = 10000\n",
        "print('Ex2 >', e_list)\n",
        "print('Ex2 >', f_list)"
      ],
      "metadata": {
        "colab": {
          "base_uri": "https://localhost:8080/"
        },
        "id": "wjPWDcwtXfQF",
        "outputId": "50502c2b-6730-4570-e692-84616494789b"
      },
      "execution_count": 23,
      "outputs": [
        {
          "output_type": "stream",
          "name": "stdout",
          "text": [
            "Ex3 > 135141956918400\n",
            "Ex3 > 135141322795584\n",
            "Ex2 > [1, 100, 3, [4, 5, 6], [7, 8, 9]]\n",
            "Ex2 > [1, 2, 3, [4, 5, 6], [7, 8, 9]]\n",
            "Ex2 > [1, 100, 3, [4, 5, 6, 1000], [7, 10000, 9]]\n",
            "Ex2 > [1, 2, 3, [4, 5, 6], [7, 8, 9]]\n"
          ]
        }
      ]
    }
  ]
}