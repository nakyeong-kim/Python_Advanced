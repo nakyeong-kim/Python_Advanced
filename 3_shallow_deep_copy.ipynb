{
  "nbformat": 4,
  "nbformat_minor": 0,
  "metadata": {
    "colab": {
      "provenance": [],
      "authorship_tag": "ABX9TyM4bG/8CzYkFsa23a83qUIc",
      "include_colab_link": true
    },
    "kernelspec": {
      "name": "python3",
      "display_name": "Python 3"
    },
    "language_info": {
      "name": "python"
    }
  },
  "cells": [
    {
      "cell_type": "markdown",
      "metadata": {
        "id": "view-in-github",
        "colab_type": "text"
      },
      "source": [
        "<a href=\"https://colab.research.google.com/github/nakyeong-kim/python_advanced/blob/main/3_shallow_deep_copy.ipynb\" target=\"_parent\"><img src=\"https://colab.research.google.com/assets/colab-badge.svg\" alt=\"Open In Colab\"/></a>"
      ]
    },
    {
      "cell_type": "markdown",
      "source": [
        "# 3. Shallow Copy & Deep Copy\n",
        "\n",
        "### shallow copy, deep copy <br><br>    \n",
        "\n",
        "\n",
        "* 객체의 복사 종류 : copy, shallow copy, deep copy\n",
        "  - shallow copy = 얕은 복사 = call by reference\n",
        "  - deep copy = 깊은 복사 = call by value\n",
        "  - 객체가 클수록 deep copy는 메모리도 많이 잡아먹고 느림\n",
        "  - 어떤 것이 좋다 X → 구현하고자 하는 형태에 맞춰서 어떤 복사가 필요한지 판단하여 구현 (개발 시 정확한 이해 후 사용하는 것이 중요) <br><br>\n",
        "* 가변형(mutable) 객체 : list, set, dict (한번 선언 후 값 변경 가능)\n",
        "* 불변형(immutable) 객체 : int, float, str, bool, unicode ... (한 번 선언 후 값 변경 불가) <br><br><br>"
      ],
      "metadata": {
        "id": "zNrLKIEaWS7S"
      }
    },
    {
      "cell_type": "code",
      "source": [
        "# Ex1 - Copy\n",
        "# Call by value, Call by Reference, Call by Share\n",
        "\n",
        "a_list = [1, 2, 3, [4, 5, 6], [7, 8, 9]]  # mutable\n",
        "b_list = a_list   # Call by Reference\n",
        "\n",
        "\n",
        "# 같은 id 값 참조\n",
        "print('Ex1 >', id(a_list))\n",
        "print('Ex1 >', id(b_list))\n",
        "\n",
        "b_list[2] = 100\n",
        "print('Ex1 >', a_list)\n",
        "print('Ex1 >', b_list)\n",
        "\n",
        "b_list[3][2] = 100\n",
        "print('Ex1 >', a_list)\n",
        "print('Ex1 >', b_list)\n",
        "\n",
        "\n",
        "\n",
        "## 참고\n",
        "\n",
        "a = 1   # immutable\n",
        "b = a\n",
        "\n",
        "# 같은 id 값 참조\n",
        "print('Ex1 >', id(a))\n",
        "print('Ex1 >', id(b))\n",
        "\n",
        "b = 100\n",
        "print('Ex1 >', a)\n",
        "print('Ex1 >', b)"
      ],
      "metadata": {
        "colab": {
          "base_uri": "https://localhost:8080/"
        },
        "id": "woW-zGytXKe2",
        "outputId": "a7df797e-10e9-4d24-bfbc-162b59dc3793"
      },
      "execution_count": 1,
      "outputs": [
        {
          "output_type": "stream",
          "name": "stdout",
          "text": [
            "Ex1 > 132094017639360\n",
            "Ex1 > 132094017639360\n",
            "Ex1 > [1, 2, 100, [4, 5, 6], [7, 8, 9]]\n",
            "Ex1 > [1, 2, 100, [4, 5, 6], [7, 8, 9]]\n",
            "Ex1 > [1, 2, 100, [4, 5, 100], [7, 8, 9]]\n",
            "Ex1 > [1, 2, 100, [4, 5, 100], [7, 8, 9]]\n",
            "Ex1 > 132094445682928\n",
            "Ex1 > 132094445682928\n",
            "Ex1 > 1\n",
            "Ex1 > 100\n"
          ]
        }
      ]
    },
    {
      "cell_type": "code",
      "source": [
        "# Ex2 - Shallow Copy : 얕은 복사\n",
        "\n",
        "import copy\n",
        "\n",
        "c_list = [1, 2, 3, [4, 5, 6], [7, 8, 9]]  # mutable\n",
        "d_list = copy.copy(c_list)    # Call by Value & Call by Reference\n",
        "\n",
        "\n",
        "# 다른 id 값 참조 (Call by Value)\n",
        "print('Ex2 >', id(c_list))\n",
        "print('Ex2 >', id(d_list))\n",
        "\n",
        "d_list[1] = 100             # Call by Value\n",
        "print('Ex2 >', c_list)\n",
        "print('Ex2 >', d_list)\n",
        "\n",
        "d_list[3].append(1000)      # Call by Reference\n",
        "d_list[4][1] = 10000        # Call by Reference\n",
        "print('Ex2 >', c_list)\n",
        "print('Ex2 >', d_list)"
      ],
      "metadata": {
        "colab": {
          "base_uri": "https://localhost:8080/"
        },
        "id": "7YORAcoHXfSt",
        "outputId": "46955071-8611-498f-ff47-d5854643b6b3"
      },
      "execution_count": 2,
      "outputs": [
        {
          "output_type": "stream",
          "name": "stdout",
          "text": [
            "Ex2 > 132094017631488\n",
            "Ex2 > 132094017632128\n",
            "Ex2 > [1, 2, 3, [4, 5, 6], [7, 8, 9]]\n",
            "Ex2 > [1, 100, 3, [4, 5, 6], [7, 8, 9]]\n",
            "Ex2 > [1, 2, 3, [4, 5, 6, 1000], [7, 10000, 9]]\n",
            "Ex2 > [1, 100, 3, [4, 5, 6, 1000], [7, 10000, 9]]\n"
          ]
        }
      ]
    },
    {
      "cell_type": "code",
      "source": [
        "# Ex3 - Deep Copy : 깊은 복사\n",
        "\n",
        "import copy\n",
        "\n",
        "e_list = [1, 2, 3, [4, 5, 6], [7, 8, 9]]  # mutable\n",
        "f_list = copy.deepcopy(e_list)  # Call by Value\n",
        "\n",
        "# 다른 id 값 참조\n",
        "print('Ex3 >', id(e_list))\n",
        "print('Ex3 >', id(f_list))\n",
        "\n",
        "e_list[1] = 100\n",
        "print('Ex3 >', e_list)\n",
        "print('Ex3 >', f_list)\n",
        "\n",
        "e_list[3].append(1000)\n",
        "e_list[4][1] = 10000\n",
        "print('Ex3 >', e_list)\n",
        "print('Ex3 >', f_list)"
      ],
      "metadata": {
        "colab": {
          "base_uri": "https://localhost:8080/"
        },
        "id": "wjPWDcwtXfQF",
        "outputId": "5b81b804-c6b6-45c2-b3b8-d649a60c89ff"
      },
      "execution_count": 3,
      "outputs": [
        {
          "output_type": "stream",
          "name": "stdout",
          "text": [
            "Ex3 > 132094017429760\n",
            "Ex3 > 132094017590336\n",
            "Ex3 > [1, 100, 3, [4, 5, 6], [7, 8, 9]]\n",
            "Ex3 > [1, 2, 3, [4, 5, 6], [7, 8, 9]]\n",
            "Ex3 > [1, 100, 3, [4, 5, 6, 1000], [7, 10000, 9]]\n",
            "Ex3 > [1, 2, 3, [4, 5, 6], [7, 8, 9]]\n"
          ]
        }
      ]
    }
  ]
}